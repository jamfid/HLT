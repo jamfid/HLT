{
 "cells": [
  {
   "cell_type": "markdown",
   "id": "36524d71",
   "metadata": {},
   "source": [
    "# Imports"
   ]
  },
  {
   "cell_type": "code",
   "execution_count": 1,
   "id": "9aa41ace",
   "metadata": {},
   "outputs": [
    {
     "name": "stderr",
     "output_type": "stream",
     "text": [
      "/home/g.fidone/hlt/lib/python3.10/site-packages/transformers/utils/generic.py:441: UserWarning: torch.utils._pytree._register_pytree_node is deprecated. Please use torch.utils._pytree.register_pytree_node instead.\n",
      "  _torch_pytree._register_pytree_node(\n",
      "/home/g.fidone/hlt/lib/python3.10/site-packages/torch/cuda/__init__.py:628: UserWarning: Can't initialize NVML\n",
      "  warnings.warn(\"Can't initialize NVML\")\n",
      "/home/g.fidone/hlt/lib/python3.10/site-packages/transformers/utils/generic.py:309: UserWarning: torch.utils._pytree._register_pytree_node is deprecated. Please use torch.utils._pytree.register_pytree_node instead.\n",
      "  _torch_pytree._register_pytree_node(\n"
     ]
    }
   ],
   "source": [
    "# general\n",
    "import torch\n",
    "import numpy as np\n",
    "from tqdm.notebook import tqdm\n",
    "import random\n",
    "import warnings\n",
    "\n",
    "# data\n",
    "from torch.utils.data import DataLoader\n",
    "from datasets import Dataset, load_dataset\n",
    "\n",
    "# visualization\n",
    "import matplotlib.pyplot as plt\n",
    "import seaborn as sns\n",
    "\n",
    "# model\n",
    "from transformers import AutoModelForCausalLM, AutoTokenizer, default_data_collator\n",
    "from peft import get_peft_config, get_peft_model, PromptTuningInit, PromptTuningConfig, TaskType, PeftType\n",
    "from sklearn.metrics import classification_report, accuracy_score, f1_score, confusion_matrix\n",
    "from torch.optim.lr_scheduler import ExponentialLR\n",
    "\n",
    "# custom\n",
    "from utils import * # custom py file"
   ]
  },
  {
   "cell_type": "code",
   "execution_count": 2,
   "id": "0efaf014-7231-46dc-b3b6-f501c541829a",
   "metadata": {},
   "outputs": [],
   "source": [
    "sns.set_theme(style=\"whitegrid\", font='cmr10', font_scale=1.5)"
   ]
  },
  {
   "cell_type": "markdown",
   "id": "180b5339-c9ed-4fbd-9b17-538614bd0a77",
   "metadata": {},
   "source": [
    "# Reproducibility"
   ]
  },
  {
   "cell_type": "code",
   "execution_count": 3,
   "id": "8622d036-4231-42db-a500-dada23a8b1b0",
   "metadata": {},
   "outputs": [],
   "source": [
    "SEED = 42\n",
    "determinism = True\n",
    "if determinism:\n",
    "    set_deterministic_mode(SEED) # custom function (see utils.py)"
   ]
  },
  {
   "cell_type": "markdown",
   "id": "ad4f07db-1417-4ca1-89b3-75e24e3507ac",
   "metadata": {},
   "source": [
    "# Data"
   ]
  },
  {
   "cell_type": "code",
   "execution_count": 4,
   "id": "e583fa6c",
   "metadata": {},
   "outputs": [],
   "source": [
    "train = load_dataset('json', data_files='subtaskA_train_sample.jsonl', split='train')\n",
    "val = load_dataset('json', data_files='subtaskA_dev_monolingual.jsonl', split='train')\n",
    "test = load_dataset('json', data_files='subtaskA_test.jsonl', split='train')"
   ]
  },
  {
   "cell_type": "code",
   "execution_count": 5,
   "id": "15b96408",
   "metadata": {},
   "outputs": [
    {
     "name": "stdout",
     "output_type": "stream",
     "text": [
      "(53890, 5) (5000, 5) (11976, 5)\n"
     ]
    }
   ],
   "source": [
    "print(train.shape, val.shape, test.shape)"
   ]
  },
  {
   "cell_type": "code",
   "execution_count": 6,
   "id": "a8c696f7",
   "metadata": {},
   "outputs": [],
   "source": [
    "model_tokenizer_path = 'mistralai/Mistral-7B-v0.1' "
   ]
  },
  {
   "cell_type": "code",
   "execution_count": 7,
   "id": "3e2ff22d",
   "metadata": {},
   "outputs": [],
   "source": [
    "tokenizer = AutoTokenizer.from_pretrained(model_tokenizer_path) # initializing tokenizer\n",
    "if tokenizer.pad_token_id is None:\n",
    "    tokenizer.pad_token_id = tokenizer.eos_token_id"
   ]
  },
  {
   "cell_type": "code",
   "execution_count": 8,
   "id": "cfd622fd",
   "metadata": {},
   "outputs": [],
   "source": [
    "max_length = 121"
   ]
  },
  {
   "cell_type": "code",
   "execution_count": 9,
   "id": "18d6fdfc",
   "metadata": {},
   "outputs": [],
   "source": [
    "train = train.map(\n",
    "    lambda example: tokenize(example, tokenizer, max_length, labeled=True), # custom function (see utils.py)\n",
    "    batched=True,\n",
    "    desc=\"Running tokenizer on dataset\",\n",
    ")"
   ]
  },
  {
   "cell_type": "code",
   "execution_count": 10,
   "id": "be447de1",
   "metadata": {},
   "outputs": [],
   "source": [
    "val = val.map(\n",
    "    lambda example: tokenize(example, tokenizer, max_length, labeled=True),\n",
    "    batched=True,\n",
    "    desc=\"Running tokenizer on dataset\",\n",
    ")"
   ]
  },
  {
   "cell_type": "code",
   "execution_count": 11,
   "id": "6efe9b9f-8bae-4635-9ca5-7fe42b449303",
   "metadata": {},
   "outputs": [],
   "source": [
    "test = test.map( \n",
    "    lambda example: tokenize(example, tokenizer, max_length, labeled=False),\n",
    "    batched=True,\n",
    "    desc=\"Running tokenizer on dataset\",\n",
    ")"
   ]
  },
  {
   "cell_type": "code",
   "execution_count": 12,
   "id": "9a3965eb-b130-4b09-803d-52b913e815f3",
   "metadata": {},
   "outputs": [
    {
     "data": {
      "text/plain": [
       "'Text: \"In the movie Django Unchained, we observe bounties worth thousands of dollars being offered for particular criminals in the American Old West during the year 1858. While there is no concrete evidence to suggest the accuracy of such high-value bounties, we do have some evidence that suggests similar amounts were offered for criminals of varying notability during the mid-1850s. \\n\\nIt is generally accepted that during this period of America’s history, local sheriffs and agencies were \" \\nLabel: 1'"
      ]
     },
     "execution_count": 12,
     "metadata": {},
     "output_type": "execute_result"
    }
   ],
   "source": [
    "# input example (labeled)\n",
    "\n",
    "tokenizer.decode(train[0]['input_ids'], skip_special_tokens=True)"
   ]
  },
  {
   "cell_type": "code",
   "execution_count": 13,
   "id": "97b00a31-a585-48a3-8f66-add0b885f44c",
   "metadata": {},
   "outputs": [
    {
     "data": {
      "text/plain": [
       "'Text: \"  First passage of stochastic processes under resetting has recently been an\\nactive research topic in the field of statistical physics. However, most of\\nprevious studies mainly focused on the systems with continuous time and space.\\nIn this paper, we study the effect of stochastic resetting on first passage\\nproperties of discrete-time absorbing Markov chains, described by a transition\\nmatrix $\\\\brm{Q}$ between transient states and a transition matrix $\\\\brm{R}$\\nfrom transient states to absorbing states. \" \\nLabel: '"
      ]
     },
     "execution_count": 13,
     "metadata": {},
     "output_type": "execute_result"
    }
   ],
   "source": [
    "# input example (unlabeled)\n",
    "\n",
    "tokenizer.decode(test[0]['input_ids'], skip_special_tokens=True)"
   ]
  },
  {
   "cell_type": "code",
   "execution_count": 14,
   "id": "765ec44d",
   "metadata": {},
   "outputs": [
    {
     "data": {
      "text/plain": [
       "Dataset({\n",
       "    features: ['text', 'label', 'model', 'source', 'id', 'input_ids', 'attention_mask', 'labels'],\n",
       "    num_rows: 53890\n",
       "})"
      ]
     },
     "execution_count": 14,
     "metadata": {},
     "output_type": "execute_result"
    }
   ],
   "source": [
    "train"
   ]
  },
  {
   "cell_type": "code",
   "execution_count": 15,
   "id": "8ba6d5cb",
   "metadata": {},
   "outputs": [
    {
     "data": {
      "text/plain": [
       "Dataset({\n",
       "    features: ['text', 'label', 'model', 'source', 'id', 'input_ids', 'attention_mask', 'labels'],\n",
       "    num_rows: 5000\n",
       "})"
      ]
     },
     "execution_count": 15,
     "metadata": {},
     "output_type": "execute_result"
    }
   ],
   "source": [
    "val"
   ]
  },
  {
   "cell_type": "code",
   "execution_count": 16,
   "id": "cab9054d",
   "metadata": {},
   "outputs": [
    {
     "data": {
      "text/plain": [
       "Dataset({\n",
       "    features: ['text', 'label', 'model', 'source', 'id', 'input_ids', 'attention_mask', 'labels'],\n",
       "    num_rows: 11976\n",
       "})"
      ]
     },
     "execution_count": 16,
     "metadata": {},
     "output_type": "execute_result"
    }
   ],
   "source": [
    "test"
   ]
  },
  {
   "cell_type": "code",
   "execution_count": 17,
   "id": "c856d5ed-8429-4977-beac-a477b71d7b97",
   "metadata": {},
   "outputs": [],
   "source": [
    "# saving y vectors \n",
    "\n",
    "y_val = val['label']\n",
    "y_test = test['label']"
   ]
  },
  {
   "cell_type": "code",
   "execution_count": 18,
   "id": "dc5694be",
   "metadata": {},
   "outputs": [],
   "source": [
    "# removing unnecessary columns\n",
    "\n",
    "train = train.remove_columns(['id', 'text', 'source', 'label', 'model'])\n",
    "val = val.remove_columns(['id', 'text', 'source', 'label', 'model'])\n",
    "test = test.remove_columns(['id', 'text', 'source', 'label', 'model'])"
   ]
  },
  {
   "cell_type": "code",
   "execution_count": 19,
   "id": "ca9f7b15-3461-4fc8-8f0d-103b972c3651",
   "metadata": {},
   "outputs": [
    {
     "data": {
      "text/plain": [
       "Dataset({\n",
       "    features: ['input_ids', 'attention_mask', 'labels'],\n",
       "    num_rows: 53890\n",
       "})"
      ]
     },
     "execution_count": 19,
     "metadata": {},
     "output_type": "execute_result"
    }
   ],
   "source": [
    "train"
   ]
  },
  {
   "cell_type": "code",
   "execution_count": 20,
   "id": "dbb71ffd-ae0c-40f0-87bc-7723fb723ca0",
   "metadata": {},
   "outputs": [
    {
     "data": {
      "text/plain": [
       "Dataset({\n",
       "    features: ['input_ids', 'attention_mask', 'labels'],\n",
       "    num_rows: 5000\n",
       "})"
      ]
     },
     "execution_count": 20,
     "metadata": {},
     "output_type": "execute_result"
    }
   ],
   "source": [
    "val"
   ]
  },
  {
   "cell_type": "code",
   "execution_count": 21,
   "id": "c57cfc12-a95f-46cc-aadf-662d896b4496",
   "metadata": {},
   "outputs": [
    {
     "data": {
      "text/plain": [
       "Dataset({\n",
       "    features: ['input_ids', 'attention_mask', 'labels'],\n",
       "    num_rows: 11976\n",
       "})"
      ]
     },
     "execution_count": 21,
     "metadata": {},
     "output_type": "execute_result"
    }
   ],
   "source": [
    "test"
   ]
  },
  {
   "cell_type": "code",
   "execution_count": 22,
   "id": "8bfc184f",
   "metadata": {},
   "outputs": [],
   "source": [
    "# converting to torch\n",
    "\n",
    "train.set_format('pt', columns=['input_ids', 'attention_mask', 'labels'], output_all_columns=True)\n",
    "val.set_format('pt', columns=['input_ids', 'attention_mask', 'labels'], output_all_columns=True)\n",
    "test.set_format('pt', columns=['input_ids', 'attention_mask', 'labels'], output_all_columns=True)"
   ]
  },
  {
   "cell_type": "code",
   "execution_count": 23,
   "id": "529cf392",
   "metadata": {},
   "outputs": [],
   "source": [
    "batch_size = 8"
   ]
  },
  {
   "cell_type": "code",
   "execution_count": 24,
   "id": "b6f5bedc-fc1b-4e73-abce-a379885515f0",
   "metadata": {},
   "outputs": [
    {
     "data": {
      "text/plain": [
       "<torch._C.Generator at 0x7f02f1943b70>"
      ]
     },
     "execution_count": 24,
     "metadata": {},
     "output_type": "execute_result"
    }
   ],
   "source": [
    "def seed_worker(worker_id): # defining worker_init_fn for dataloader\n",
    "    worker_seed = torch.initial_seed() % 2**32\n",
    "    numpy.random.seed(worker_seed)\n",
    "    random.seed(worker_seed)\n",
    "\n",
    "g = torch.Generator()\n",
    "g.manual_seed(SEED)"
   ]
  },
  {
   "cell_type": "code",
   "execution_count": 25,
   "id": "fd7bfba1",
   "metadata": {},
   "outputs": [],
   "source": [
    "train = DataLoader(\n",
    "    train, \n",
    "    shuffle=True,\n",
    "    collate_fn=default_data_collator, \n",
    "    batch_size=batch_size, \n",
    "    pin_memory=True,\n",
    "    worker_init_fn=seed_worker,\n",
    "    generator=g\n",
    ")"
   ]
  },
  {
   "cell_type": "code",
   "execution_count": 26,
   "id": "1ef1d9df",
   "metadata": {},
   "outputs": [],
   "source": [
    "val = DataLoader(\n",
    "    val, \n",
    "    shuffle=False,\n",
    "    collate_fn=default_data_collator, \n",
    "    batch_size=batch_size, \n",
    "    pin_memory=True\n",
    ")"
   ]
  },
  {
   "cell_type": "code",
   "execution_count": 27,
   "id": "0f9b9d07",
   "metadata": {},
   "outputs": [],
   "source": [
    "test = DataLoader(\n",
    "    test, \n",
    "    shuffle=False,\n",
    "    collate_fn=default_data_collator, \n",
    "    batch_size=batch_size, \n",
    "    pin_memory=True\n",
    ")"
   ]
  },
  {
   "cell_type": "markdown",
   "id": "d78198ff",
   "metadata": {},
   "source": [
    "# Model"
   ]
  },
  {
   "cell_type": "markdown",
   "id": "fb3b4c66",
   "metadata": {},
   "source": [
    "## Config"
   ]
  },
  {
   "cell_type": "code",
   "execution_count": 28,
   "id": "377237f7",
   "metadata": {},
   "outputs": [
    {
     "name": "stdout",
     "output_type": "stream",
     "text": [
      "24\n"
     ]
    }
   ],
   "source": [
    "prompt_tuning_init_text = 'Decide if the following text has been written by a human (0) or by a language model (1).'\n",
    "print(len(tokenizer(prompt_tuning_init_text)['input_ids']))"
   ]
  },
  {
   "cell_type": "code",
   "execution_count": 29,
   "id": "5fcbe801-e2ce-416d-b252-f938ceda8c0b",
   "metadata": {},
   "outputs": [],
   "source": [
    "# hyper-parameters\n",
    "\n",
    "num_virtual_tokens = 24 # set as the length of prompt_tuning_init_text\n",
    "lr = 4e-3\n",
    "weight_decay = 3e-1 # default 1e-2\n",
    "gamma = 0.95"
   ]
  },
  {
   "cell_type": "code",
   "execution_count": 30,
   "id": "bfb70a35",
   "metadata": {},
   "outputs": [],
   "source": [
    "peft_config = PromptTuningConfig(\n",
    "    task_type=TaskType.CAUSAL_LM, \n",
    "    prompt_tuning_init=PromptTuningInit.TEXT, \n",
    "    num_virtual_tokens=num_virtual_tokens, \n",
    "    prompt_tuning_init_text=prompt_tuning_init_text,\n",
    "    tokenizer_name_or_path=model_tokenizer_path,\n",
    ")"
   ]
  },
  {
   "cell_type": "code",
   "execution_count": 31,
   "id": "18646204",
   "metadata": {},
   "outputs": [
    {
     "data": {
      "application/vnd.jupyter.widget-view+json": {
       "model_id": "e4e6cfcfe6534453ba30e0ece82cd3bc",
       "version_major": 2,
       "version_minor": 0
      },
      "text/plain": [
       "Loading checkpoint shards:   0%|          | 0/2 [00:00<?, ?it/s]"
      ]
     },
     "metadata": {},
     "output_type": "display_data"
    },
    {
     "name": "stdout",
     "output_type": "stream",
     "text": [
      "trainable params: 98,304 || all params: 7,241,830,400 || trainable%: 0.0013574468686811554\n",
      "None\n"
     ]
    }
   ],
   "source": [
    "model = AutoModelForCausalLM.from_pretrained(model_tokenizer_path, torch_dtype=torch.float16) # model loaded with half-precision\n",
    "model = get_peft_model(model, peft_config)\n",
    "print(model.print_trainable_parameters())"
   ]
  },
  {
   "cell_type": "code",
   "execution_count": 32,
   "id": "ade9fb1d",
   "metadata": {},
   "outputs": [],
   "source": [
    "optimizer = torch.optim.AdamW(model.parameters(), lr=lr, weight_decay=weight_decay)"
   ]
  },
  {
   "cell_type": "code",
   "execution_count": 33,
   "id": "09d2c63a-47f0-40bd-acc5-e492c83f32c5",
   "metadata": {},
   "outputs": [],
   "source": [
    "lr_scheduler = torch.optim.lr_scheduler.ExponentialLR(optimizer, gamma=gamma)"
   ]
  },
  {
   "cell_type": "code",
   "execution_count": 34,
   "id": "ff421a98-43a2-4e7e-9be3-e1a15e2195f9",
   "metadata": {},
   "outputs": [
    {
     "name": "stdout",
     "output_type": "stream",
     "text": [
      "Current Tesla V100S-PCIE-32GB memory usage: 0.000/31.739 GiB\n"
     ]
    }
   ],
   "source": [
    "check_cuda_memory() # custom function (see utils.py)"
   ]
  },
  {
   "cell_type": "code",
   "execution_count": 35,
   "id": "0e176f9a",
   "metadata": {},
   "outputs": [],
   "source": [
    "device = 'cuda' if torch.cuda.is_available() else 'cpu'\n",
    "model.to(device);"
   ]
  },
  {
   "cell_type": "code",
   "execution_count": 36,
   "id": "605f0af3-954a-441f-8b90-84de7dd0c483",
   "metadata": {},
   "outputs": [
    {
     "name": "stdout",
     "output_type": "stream",
     "text": [
      "Current Tesla V100S-PCIE-32GB memory usage: 13.989/31.739 GiB\n"
     ]
    }
   ],
   "source": [
    "check_cuda_memory()"
   ]
  },
  {
   "cell_type": "markdown",
   "id": "5da590b2-32e6-4021-986a-606908d1207e",
   "metadata": {},
   "source": [
    "## Training"
   ]
  },
  {
   "cell_type": "code",
   "execution_count": 37,
   "id": "56149a4a-6d4d-4b34-a7a7-31e16f3ad98a",
   "metadata": {},
   "outputs": [],
   "source": [
    "num_epochs = 10\n",
    "early_stopping = True"
   ]
  },
  {
   "cell_type": "code",
   "execution_count": 38,
   "id": "b4c16d57-1b24-474e-9d88-8c318480adbc",
   "metadata": {},
   "outputs": [
    {
     "data": {
      "application/vnd.jupyter.widget-view+json": {
       "model_id": "8f0f772a7aef478b97512102e4ee9f4c",
       "version_major": 2,
       "version_minor": 0
      },
      "text/plain": [
       "Epoch 0: training (TR):   0%|          | 0/6737 [00:00<?, ?it/s]"
      ]
     },
     "metadata": {},
     "output_type": "display_data"
    },
    {
     "name": "stderr",
     "output_type": "stream",
     "text": [
      "/home/g.fidone/utils.py:113: UserWarning: A number of 42 labels have been randomly selected because generated labels did not match any expected label.\n",
      "  warnings.warn(f'A number of {missed} labels have been randomly selected because generated labels did not match any expected label.', UserWarning)\n"
     ]
    },
    {
     "data": {
      "application/vnd.jupyter.widget-view+json": {
       "model_id": "ba2a22a6aa884709adda44d4805ed071",
       "version_major": 2,
       "version_minor": 0
      },
      "text/plain": [
       "Epoch 0: inference (VL):   0%|          | 0/625 [00:00<?, ?it/s]"
      ]
     },
     "metadata": {},
     "output_type": "display_data"
    },
    {
     "name": "stdout",
     "output_type": "stream",
     "text": [
      "Epoch 0\n",
      "TR Loss: 0.08208096027374268\tVL Loss: 0.1873186230659485\n",
      "TR Accuracy: 0.83\t\tVL Accuracy: 0.5908\n",
      "TR F1: 0.829\t\t\tVL F1 (Macro): 0.5347103360346515\n"
     ]
    },
    {
     "data": {
      "application/vnd.jupyter.widget-view+json": {
       "model_id": "7190ed946d0e4dbbbdde8ad118c8e8ff",
       "version_major": 2,
       "version_minor": 0
      },
      "text/plain": [
       "Epoch 1: training (TR):   0%|          | 0/6737 [00:00<?, ?it/s]"
      ]
     },
     "metadata": {},
     "output_type": "display_data"
    },
    {
     "name": "stderr",
     "output_type": "stream",
     "text": [
      "/home/g.fidone/utils.py:113: UserWarning: A number of 17 labels have been randomly selected because generated labels did not match any expected label.\n",
      "  warnings.warn(f'A number of {missed} labels have been randomly selected because generated labels did not match any expected label.', UserWarning)\n"
     ]
    },
    {
     "data": {
      "application/vnd.jupyter.widget-view+json": {
       "model_id": "d4fbaf011bf44c26a7d2d835577d7de6",
       "version_major": 2,
       "version_minor": 0
      },
      "text/plain": [
       "Epoch 1: inference (VL):   0%|          | 0/625 [00:00<?, ?it/s]"
      ]
     },
     "metadata": {},
     "output_type": "display_data"
    },
    {
     "name": "stdout",
     "output_type": "stream",
     "text": [
      "Epoch 1\n",
      "TR Loss: 0.03304677829146385\tVL Loss: 0.1116073951125145\n",
      "TR Accuracy: 0.929\t\tVL Accuracy: 0.7036\n",
      "TR F1: 0.929\t\t\tVL F1 (Macro): 0.6810310316773636\n"
     ]
    },
    {
     "data": {
      "application/vnd.jupyter.widget-view+json": {
       "model_id": "9b7d4e3c6ea147aabd3b40888c70a193",
       "version_major": 2,
       "version_minor": 0
      },
      "text/plain": [
       "Epoch 2: training (TR):   0%|          | 0/6737 [00:00<?, ?it/s]"
      ]
     },
     "metadata": {},
     "output_type": "display_data"
    },
    {
     "name": "stderr",
     "output_type": "stream",
     "text": [
      "/home/g.fidone/utils.py:113: UserWarning: A number of 16 labels have been randomly selected because generated labels did not match any expected label.\n",
      "  warnings.warn(f'A number of {missed} labels have been randomly selected because generated labels did not match any expected label.', UserWarning)\n"
     ]
    },
    {
     "data": {
      "application/vnd.jupyter.widget-view+json": {
       "model_id": "ed0351f852484b2ea13567e9e38e27ab",
       "version_major": 2,
       "version_minor": 0
      },
      "text/plain": [
       "Epoch 2: inference (VL):   0%|          | 0/625 [00:00<?, ?it/s]"
      ]
     },
     "metadata": {},
     "output_type": "display_data"
    },
    {
     "name": "stderr",
     "output_type": "stream",
     "text": [
      "/home/g.fidone/utils.py:113: UserWarning: A number of 1 labels have been randomly selected because generated labels did not match any expected label.\n",
      "  warnings.warn(f'A number of {missed} labels have been randomly selected because generated labels did not match any expected label.', UserWarning)\n"
     ]
    },
    {
     "name": "stdout",
     "output_type": "stream",
     "text": [
      "Epoch 2\n",
      "TR Loss: 0.027196548879146576\tVL Loss: 0.11508836597204208\n",
      "TR Accuracy: 0.938\t\tVL Accuracy: 0.7122\n",
      "TR F1: 0.938\t\t\tVL F1 (Macro): 0.6924518537544662\n"
     ]
    },
    {
     "data": {
      "application/vnd.jupyter.widget-view+json": {
       "model_id": "91309716fd7a482980cfc096a627efae",
       "version_major": 2,
       "version_minor": 0
      },
      "text/plain": [
       "Epoch 3: training (TR):   0%|          | 0/6737 [00:00<?, ?it/s]"
      ]
     },
     "metadata": {},
     "output_type": "display_data"
    },
    {
     "name": "stderr",
     "output_type": "stream",
     "text": [
      "/home/g.fidone/utils.py:113: UserWarning: A number of 13 labels have been randomly selected because generated labels did not match any expected label.\n",
      "  warnings.warn(f'A number of {missed} labels have been randomly selected because generated labels did not match any expected label.', UserWarning)\n"
     ]
    },
    {
     "data": {
      "application/vnd.jupyter.widget-view+json": {
       "model_id": "4a5b86e4933b45659a0d76c2c11d7ae1",
       "version_major": 2,
       "version_minor": 0
      },
      "text/plain": [
       "Epoch 3: inference (VL):   0%|          | 0/625 [00:00<?, ?it/s]"
      ]
     },
     "metadata": {},
     "output_type": "display_data"
    },
    {
     "name": "stdout",
     "output_type": "stream",
     "text": [
      "Epoch 3\n",
      "TR Loss: 0.02503165416419506\tVL Loss: 0.06077893450856209\n",
      "TR Accuracy: 0.952\t\tVL Accuracy: 0.8372\n",
      "TR F1: 0.951\t\t\tVL F1 (Macro): 0.8352642628363138\n"
     ]
    },
    {
     "data": {
      "application/vnd.jupyter.widget-view+json": {
       "model_id": "31eb72040f4e422ca942b18d8785b56c",
       "version_major": 2,
       "version_minor": 0
      },
      "text/plain": [
       "Epoch 4: training (TR):   0%|          | 0/6737 [00:00<?, ?it/s]"
      ]
     },
     "metadata": {},
     "output_type": "display_data"
    },
    {
     "name": "stderr",
     "output_type": "stream",
     "text": [
      "/home/g.fidone/utils.py:113: UserWarning: A number of 6 labels have been randomly selected because generated labels did not match any expected label.\n",
      "  warnings.warn(f'A number of {missed} labels have been randomly selected because generated labels did not match any expected label.', UserWarning)\n"
     ]
    },
    {
     "data": {
      "application/vnd.jupyter.widget-view+json": {
       "model_id": "b5e05a55f31e441abd830e4b03f23eb5",
       "version_major": 2,
       "version_minor": 0
      },
      "text/plain": [
       "Epoch 4: inference (VL):   0%|          | 0/625 [00:00<?, ?it/s]"
      ]
     },
     "metadata": {},
     "output_type": "display_data"
    },
    {
     "name": "stdout",
     "output_type": "stream",
     "text": [
      "Epoch 4\n",
      "TR Loss: 0.0193466879427433\tVL Loss: 0.06322715431451797\n",
      "TR Accuracy: 0.96\t\tVL Accuracy: 0.8204\n",
      "TR F1: 0.96\t\t\tVL F1 (Macro): 0.8165101322369384\n"
     ]
    },
    {
     "data": {
      "application/vnd.jupyter.widget-view+json": {
       "model_id": "dce648ee0cc04126a97140693f94e05b",
       "version_major": 2,
       "version_minor": 0
      },
      "text/plain": [
       "Epoch 5: training (TR):   0%|          | 0/6737 [00:00<?, ?it/s]"
      ]
     },
     "metadata": {},
     "output_type": "display_data"
    },
    {
     "name": "stderr",
     "output_type": "stream",
     "text": [
      "/home/g.fidone/utils.py:113: UserWarning: A number of 4 labels have been randomly selected because generated labels did not match any expected label.\n",
      "  warnings.warn(f'A number of {missed} labels have been randomly selected because generated labels did not match any expected label.', UserWarning)\n"
     ]
    },
    {
     "data": {
      "application/vnd.jupyter.widget-view+json": {
       "model_id": "3fef5da2c7f948adbf4b217b9362a966",
       "version_major": 2,
       "version_minor": 0
      },
      "text/plain": [
       "Epoch 5: inference (VL):   0%|          | 0/625 [00:00<?, ?it/s]"
      ]
     },
     "metadata": {},
     "output_type": "display_data"
    },
    {
     "name": "stdout",
     "output_type": "stream",
     "text": [
      "Epoch 5\n",
      "TR Loss: 0.0161102507263422\tVL Loss: 0.04025272652506828\n",
      "TR Accuracy: 0.965\t\tVL Accuracy: 0.8888\n",
      "TR F1: 0.965\t\t\tVL F1 (Macro): 0.8887606835760031\n"
     ]
    },
    {
     "data": {
      "application/vnd.jupyter.widget-view+json": {
       "model_id": "f99b500a9e5d4563844664613c64e44a",
       "version_major": 2,
       "version_minor": 0
      },
      "text/plain": [
       "Epoch 6: training (TR):   0%|          | 0/6737 [00:00<?, ?it/s]"
      ]
     },
     "metadata": {},
     "output_type": "display_data"
    },
    {
     "name": "stderr",
     "output_type": "stream",
     "text": [
      "/home/g.fidone/utils.py:113: UserWarning: A number of 4 labels have been randomly selected because generated labels did not match any expected label.\n",
      "  warnings.warn(f'A number of {missed} labels have been randomly selected because generated labels did not match any expected label.', UserWarning)\n"
     ]
    },
    {
     "data": {
      "application/vnd.jupyter.widget-view+json": {
       "model_id": "9573a48e436341b3967d7bfac11d9734",
       "version_major": 2,
       "version_minor": 0
      },
      "text/plain": [
       "Epoch 6: inference (VL):   0%|          | 0/625 [00:00<?, ?it/s]"
      ]
     },
     "metadata": {},
     "output_type": "display_data"
    },
    {
     "name": "stderr",
     "output_type": "stream",
     "text": [
      "/home/g.fidone/utils.py:113: UserWarning: A number of 1 labels have been randomly selected because generated labels did not match any expected label.\n",
      "  warnings.warn(f'A number of {missed} labels have been randomly selected because generated labels did not match any expected label.', UserWarning)\n"
     ]
    },
    {
     "name": "stdout",
     "output_type": "stream",
     "text": [
      "Epoch 6\n",
      "TR Loss: 0.016415730118751526\tVL Loss: 0.04688750579953194\n",
      "TR Accuracy: 0.963\t\tVL Accuracy: 0.8822\n",
      "TR F1: 0.963\t\t\tVL F1 (Macro): 0.8814297248070475\n"
     ]
    },
    {
     "data": {
      "application/vnd.jupyter.widget-view+json": {
       "model_id": "3face4c56189422d95d60c04718b4e40",
       "version_major": 2,
       "version_minor": 0
      },
      "text/plain": [
       "Epoch 7: training (TR):   0%|          | 0/6737 [00:00<?, ?it/s]"
      ]
     },
     "metadata": {},
     "output_type": "display_data"
    },
    {
     "name": "stderr",
     "output_type": "stream",
     "text": [
      "/home/g.fidone/utils.py:113: UserWarning: A number of 3 labels have been randomly selected because generated labels did not match any expected label.\n",
      "  warnings.warn(f'A number of {missed} labels have been randomly selected because generated labels did not match any expected label.', UserWarning)\n"
     ]
    },
    {
     "data": {
      "application/vnd.jupyter.widget-view+json": {
       "model_id": "5d78e465e08043deb6bdfdff50a77df5",
       "version_major": 2,
       "version_minor": 0
      },
      "text/plain": [
       "Epoch 7: inference (VL):   0%|          | 0/625 [00:00<?, ?it/s]"
      ]
     },
     "metadata": {},
     "output_type": "display_data"
    },
    {
     "name": "stdout",
     "output_type": "stream",
     "text": [
      "Epoch 7\n",
      "TR Loss: 0.015639595687389374\tVL Loss: 0.05936910957098007\n",
      "TR Accuracy: 0.967\t\tVL Accuracy: 0.84\n",
      "TR F1: 0.966\t\t\tVL F1 (Macro): 0.8373686507908112\n"
     ]
    },
    {
     "data": {
      "application/vnd.jupyter.widget-view+json": {
       "model_id": "24abb7b7de6d49f2a611fb778871a093",
       "version_major": 2,
       "version_minor": 0
      },
      "text/plain": [
       "Epoch 8: training (TR):   0%|          | 0/6737 [00:00<?, ?it/s]"
      ]
     },
     "metadata": {},
     "output_type": "display_data"
    },
    {
     "name": "stdout",
     "output_type": "stream",
     "text": [
      "Epoch 8\n",
      "TR Loss: 0.0181433092802763\tVL Loss: 0.041772570461034775\n",
      "TR Accuracy: 0.965\t\tVL Accuracy: 0.9032\n",
      "TR F1: 0.965\t\t\tVL F1 (Macro): 0.9031404274885225\n"
     ]
    },
    {
     "data": {
      "application/vnd.jupyter.widget-view+json": {
       "model_id": "09226049a00c48e3aa95a41eec299401",
       "version_major": 2,
       "version_minor": 0
      },
      "text/plain": [
       "Epoch 9: training (TR):   0%|          | 0/6737 [00:00<?, ?it/s]"
      ]
     },
     "metadata": {},
     "output_type": "display_data"
    },
    {
     "name": "stderr",
     "output_type": "stream",
     "text": [
      "/home/g.fidone/utils.py:113: UserWarning: A number of 7 labels have been randomly selected because generated labels did not match any expected label.\n",
      "  warnings.warn(f'A number of {missed} labels have been randomly selected because generated labels did not match any expected label.', UserWarning)\n"
     ]
    },
    {
     "data": {
      "application/vnd.jupyter.widget-view+json": {
       "model_id": "ad20adb7f29f4a3d9589b694bdbfa523",
       "version_major": 2,
       "version_minor": 0
      },
      "text/plain": [
       "Epoch 9: inference (VL):   0%|          | 0/625 [00:00<?, ?it/s]"
      ]
     },
     "metadata": {},
     "output_type": "display_data"
    },
    {
     "name": "stderr",
     "output_type": "stream",
     "text": [
      "/home/g.fidone/utils.py:113: UserWarning: A number of 74 labels have been randomly selected because generated labels did not match any expected label.\n",
      "  warnings.warn(f'A number of {missed} labels have been randomly selected because generated labels did not match any expected label.', UserWarning)\n"
     ]
    },
    {
     "name": "stdout",
     "output_type": "stream",
     "text": [
      "Epoch 9\n",
      "TR Loss: 0.017761308699846268\tVL Loss: 0.19275884330272675\n",
      "TR Accuracy: 0.966\t\tVL Accuracy: 0.7644\n",
      "TR F1: 0.966\t\t\tVL F1 (Macro): 0.7523711409207489\n",
      "Training early stopped at epoch 9.\n"
     ]
    },
    {
     "ename": "RuntimeError",
     "evalue": "[enforce fail at inline_container.cc:595] . unexpected pos 12663553600 vs 12663553496",
     "output_type": "error",
     "traceback": [
      "\u001b[0;31m---------------------------------------------------------------------------\u001b[0m",
      "\u001b[0;31mRuntimeError\u001b[0m                              Traceback (most recent call last)",
      "File \u001b[0;32m~/hlt/lib/python3.10/site-packages/torch/serialization.py:629\u001b[0m, in \u001b[0;36msave\u001b[0;34m(obj, f, pickle_module, pickle_protocol, _use_new_zipfile_serialization, _disable_byteorder_record)\u001b[0m\n\u001b[1;32m    628\u001b[0m \u001b[38;5;28;01mwith\u001b[39;00m _open_zipfile_writer(f) \u001b[38;5;28;01mas\u001b[39;00m opened_zipfile:\n\u001b[0;32m--> 629\u001b[0m     \u001b[43m_save\u001b[49m\u001b[43m(\u001b[49m\u001b[43mobj\u001b[49m\u001b[43m,\u001b[49m\u001b[43m \u001b[49m\u001b[43mopened_zipfile\u001b[49m\u001b[43m,\u001b[49m\u001b[43m \u001b[49m\u001b[43mpickle_module\u001b[49m\u001b[43m,\u001b[49m\u001b[43m \u001b[49m\u001b[43mpickle_protocol\u001b[49m\u001b[43m,\u001b[49m\u001b[43m \u001b[49m\u001b[43m_disable_byteorder_record\u001b[49m\u001b[43m)\u001b[49m\n\u001b[1;32m    630\u001b[0m     \u001b[38;5;28;01mreturn\u001b[39;00m\n",
      "File \u001b[0;32m~/hlt/lib/python3.10/site-packages/torch/serialization.py:863\u001b[0m, in \u001b[0;36m_save\u001b[0;34m(obj, zip_file, pickle_module, pickle_protocol, _disable_byteorder_record)\u001b[0m\n\u001b[1;32m    862\u001b[0m num_bytes \u001b[38;5;241m=\u001b[39m storage\u001b[38;5;241m.\u001b[39mnbytes()\n\u001b[0;32m--> 863\u001b[0m \u001b[43mzip_file\u001b[49m\u001b[38;5;241;43m.\u001b[39;49m\u001b[43mwrite_record\u001b[49m\u001b[43m(\u001b[49m\u001b[43mname\u001b[49m\u001b[43m,\u001b[49m\u001b[43m \u001b[49m\u001b[43mstorage\u001b[49m\u001b[38;5;241;43m.\u001b[39;49m\u001b[43mdata_ptr\u001b[49m\u001b[43m(\u001b[49m\u001b[43m)\u001b[49m\u001b[43m,\u001b[49m\u001b[43m \u001b[49m\u001b[43mnum_bytes\u001b[49m\u001b[43m)\u001b[49m\n",
      "\u001b[0;31mRuntimeError\u001b[0m: [enforce fail at inline_container.cc:764] . PytorchStreamWriter failed writing file data/66: file write failed",
      "\nDuring handling of the above exception, another exception occurred:\n",
      "\u001b[0;31mRuntimeError\u001b[0m                              Traceback (most recent call last)",
      "Cell \u001b[0;32mIn[38], line 79\u001b[0m\n\u001b[1;32m     77\u001b[0m \u001b[38;5;28;01mif\u001b[39;00m stop:\n\u001b[1;32m     78\u001b[0m     \u001b[38;5;28mprint\u001b[39m(\u001b[38;5;124mf\u001b[39m\u001b[38;5;124m'\u001b[39m\u001b[38;5;124mTraining early stopped at epoch \u001b[39m\u001b[38;5;132;01m{\u001b[39;00mepoch\u001b[38;5;132;01m}\u001b[39;00m\u001b[38;5;124m.\u001b[39m\u001b[38;5;124m'\u001b[39m)\n\u001b[0;32m---> 79\u001b[0m     \u001b[43mtorch\u001b[49m\u001b[38;5;241;43m.\u001b[39;49m\u001b[43msave\u001b[49m\u001b[43m(\u001b[49m\u001b[43mmodel\u001b[49m\u001b[38;5;241;43m.\u001b[39;49m\u001b[43mstate_dict\u001b[49m\u001b[43m(\u001b[49m\u001b[43m)\u001b[49m\u001b[43m,\u001b[49m\u001b[43m \u001b[49m\u001b[38;5;124;43mf\u001b[39;49m\u001b[38;5;124;43m'\u001b[39;49m\u001b[38;5;124;43mmistral_A_epoch_\u001b[39;49m\u001b[38;5;132;43;01m{\u001b[39;49;00m\u001b[43mepoch\u001b[49m\u001b[38;5;132;43;01m}\u001b[39;49;00m\u001b[38;5;124;43m.pth\u001b[39;49m\u001b[38;5;124;43m'\u001b[39;49m\u001b[43m)\u001b[49m\n\u001b[1;32m     80\u001b[0m     \u001b[38;5;28;01mbreak\u001b[39;00m\n\u001b[1;32m     81\u001b[0m \u001b[38;5;28;01mif\u001b[39;00m counter \u001b[38;5;241m==\u001b[39m \u001b[38;5;241m0\u001b[39m:\n",
      "File \u001b[0;32m~/hlt/lib/python3.10/site-packages/torch/serialization.py:628\u001b[0m, in \u001b[0;36msave\u001b[0;34m(obj, f, pickle_module, pickle_protocol, _use_new_zipfile_serialization, _disable_byteorder_record)\u001b[0m\n\u001b[1;32m    625\u001b[0m _check_save_filelike(f)\n\u001b[1;32m    627\u001b[0m \u001b[38;5;28;01mif\u001b[39;00m _use_new_zipfile_serialization:\n\u001b[0;32m--> 628\u001b[0m     \u001b[38;5;28;01mwith\u001b[39;00m _open_zipfile_writer(f) \u001b[38;5;28;01mas\u001b[39;00m opened_zipfile:\n\u001b[1;32m    629\u001b[0m         _save(obj, opened_zipfile, pickle_module, pickle_protocol, _disable_byteorder_record)\n\u001b[1;32m    630\u001b[0m         \u001b[38;5;28;01mreturn\u001b[39;00m\n",
      "File \u001b[0;32m~/hlt/lib/python3.10/site-packages/torch/serialization.py:476\u001b[0m, in \u001b[0;36m_open_zipfile_writer_file.__exit__\u001b[0;34m(self, *args)\u001b[0m\n\u001b[1;32m    475\u001b[0m \u001b[38;5;28;01mdef\u001b[39;00m \u001b[38;5;21m__exit__\u001b[39m(\u001b[38;5;28mself\u001b[39m, \u001b[38;5;241m*\u001b[39margs) \u001b[38;5;241m-\u001b[39m\u001b[38;5;241m>\u001b[39m \u001b[38;5;28;01mNone\u001b[39;00m:\n\u001b[0;32m--> 476\u001b[0m     \u001b[38;5;28;43mself\u001b[39;49m\u001b[38;5;241;43m.\u001b[39;49m\u001b[43mfile_like\u001b[49m\u001b[38;5;241;43m.\u001b[39;49m\u001b[43mwrite_end_of_file\u001b[49m\u001b[43m(\u001b[49m\u001b[43m)\u001b[49m\n\u001b[1;32m    477\u001b[0m     \u001b[38;5;28;01mif\u001b[39;00m \u001b[38;5;28mself\u001b[39m\u001b[38;5;241m.\u001b[39mfile_stream \u001b[38;5;129;01mis\u001b[39;00m \u001b[38;5;129;01mnot\u001b[39;00m \u001b[38;5;28;01mNone\u001b[39;00m:\n\u001b[1;32m    478\u001b[0m         \u001b[38;5;28mself\u001b[39m\u001b[38;5;241m.\u001b[39mfile_stream\u001b[38;5;241m.\u001b[39mclose()\n",
      "\u001b[0;31mRuntimeError\u001b[0m: [enforce fail at inline_container.cc:595] . unexpected pos 12663553600 vs 12663553496"
     ]
    }
   ],
   "source": [
    "early_stopper = EarlyStopper(patience=2, delta=1e-2) # custom object (see utils.py)\n",
    "\n",
    "train_losses = list()\n",
    "val_losses = list()\n",
    "train_pps = list()\n",
    "val_pps = list()\n",
    "train_accs = list()\n",
    "val_accs = list()\n",
    "train_f1s = list()\n",
    "val_f1s = list()\n",
    "    \n",
    "# training loop\n",
    "\n",
    "for epoch in range(num_epochs):\n",
    "    model.train()\n",
    "    train_loss = .0\n",
    "    y_pred = list()\n",
    "    y_train = list()\n",
    "    for batch in tqdm(train, desc=f'Epoch {epoch}: training (TR)'):\n",
    "        batch = {k: v.to(device) for k, v in batch.items()} # moving batches to gpu\n",
    "        output = model(**batch) # teacher forcing\n",
    "        loss = output.loss\n",
    "        train_loss += loss.detach().float()\n",
    "        predictions = torch.argmax(output.logits, -1).detach().cpu().numpy()\n",
    "        y_pred.extend(predictions)\n",
    "        y_train.extend(get_labels_from_dataloader(batch, tokenizer)) # custom function (see utils.py)\n",
    "        loss.backward()\n",
    "        optimizer.step()\n",
    "        optimizer.zero_grad(set_to_none=True) # set_to_none=True reduces memory footprint\n",
    "    lr_scheduler.step()\n",
    "\n",
    "    y_pred = get_labels_from_predictions(y_pred, [0, 1], tokenizer) # custom function (see utils.py)\n",
    "    train_epoch_loss = train_loss / len(train) # epoch loss as mean loss over iterations (batches)\n",
    "    train_pp = torch.exp(train_epoch_loss) # pp as exponential of cross-entropy\n",
    "    train_acc = round(accuracy_score(y_train, y_pred), 3)\n",
    "    train_f1 = round(f1_score(y_train, y_pred, average='macro'), 3)\n",
    "\n",
    "    model.eval()\n",
    "    val_loss = .0\n",
    "    y_pred = list()\n",
    "    for batch in tqdm(val, desc=f'Epoch {epoch}: inference (VL)'):\n",
    "        batch = {k: v.to(device) for k, v in batch.items()}\n",
    "        with torch.no_grad():\n",
    "            output = model(**batch)\n",
    "        loss = output.loss\n",
    "        val_loss += loss.detach().float()\n",
    "        predictions = torch.argmax(output.logits, -1).detach().cpu().numpy()\n",
    "        y_pred.extend(predictions)\n",
    "\n",
    "    y_pred = get_labels_from_predictions(y_pred, [0, 1], tokenizer) \n",
    "    val_epoch_loss = val_loss / len(val)\n",
    "    val_pp = torch.exp(val_epoch_loss)\n",
    "    val_acc = accuracy_score(y_val, y_pred)\n",
    "    val_f1 = f1_score(y_val, y_pred, average='macro')\n",
    "\n",
    "    train_epoch_loss = train_epoch_loss.detach().cpu().item()\n",
    "    val_epoch_loss = val_epoch_loss.detach().cpu().item()\n",
    "    train_pp = train_pp.detach().cpu().item()\n",
    "    val_pp = val_pp.detach().cpu().item()\n",
    "\n",
    "    train_losses.append(train_epoch_loss)\n",
    "    val_losses.append(val_epoch_loss)\n",
    "    train_pps.append(train_pp)\n",
    "    val_pps.append(val_pp)\n",
    "    train_accs.append(train_acc)\n",
    "    val_accs.append(val_acc)\n",
    "    train_f1s.append(train_f1)\n",
    "    val_f1s.append(val_f1)\n",
    "    \n",
    "    print(f'Epoch {epoch}')\n",
    "    print(f'TR Loss: {train_epoch_loss:12}\\tVL Loss: {val_epoch_loss:12}')  # logging\n",
    "    print(f'TR Accuracy: {train_acc:4}\\t\\tVL Accuracy: {val_acc:4}')\n",
    "    print(f'TR F1: {train_f1:4}\\t\\t\\tVL F1 (Macro): {val_f1:4}')\n",
    "    \n",
    "    if early_stopping:\n",
    "        counter, stop = early_stopper(val_epoch_loss)\n",
    "        if stop:\n",
    "            print(f'Training early stopped at epoch {epoch}.')\n",
    "            torch.save(model.state_dict(), f'mistral_A_epoch_{epoch}.pth')\n",
    "            break\n",
    "        if counter == 0:\n",
    "            torch.save(model.state_dict(), f'mistral_A_epoch_{epoch}.pth') # saving model at optimal value of validation loss (before possibrease)"
   ]
  },
  {
   "cell_type": "code",
   "execution_count": 45,
   "id": "009a42d0-bef9-4613-9fc5-ff22bdcb4049",
   "metadata": {},
   "outputs": [
    {
     "name": "stderr",
     "output_type": "stream",
     "text": [
      "/tmp/ipykernel_389034/468675584.py:1: UserWarning: cmr10 font should ideally be used with mathtext, set axes.formatter.use_mathtext to True\n",
      "  plt.plot(train_losses, label='TR')\n"
     ]
    },
    {
     "data": {
      "image/png": "[encoded data removed]",
      "text/plain": [
       "<Figure size 640x480 with 1 Axes>"
      ]
     },
     "metadata": {},
     "output_type": "display_data"
    }
   ],
   "source": [
    "plt.plot(train_losses, label='TR')\n",
    "plt.plot(val_losses, label='VL')\n",
    "plt.xlabel('Epoch')\n",
    "plt.ylabel('Loss')\n",
    "plt.axvline(x=5, color='red', linestyle='--', label='Model')\n",
    "plt.xticks([0, 1, 2, 3, 4, 5, 6, 7, 8, 9], [1, 2, 3, 4, 5, 6, 7, 8, 9, 10]) \n",
    "plt.legend()\n",
    "plt.savefig('learning_curves_A.png',  bbox_inches=\"tight\")\n",
    "plt.show()"
   ]
  },
  {
   "cell_type": "code",
   "execution_count": 48,
   "id": "984c8b36-3642-4ea3-9d48-02c2133f150b",
   "metadata": {},
   "outputs": [
    {
     "name": "stderr",
     "output_type": "stream",
     "text": [
      "/tmp/ipykernel_389034/2747301518.py:1: UserWarning: cmr10 font should ideally be used with mathtext, set axes.formatter.use_mathtext to True\n",
      "  plt.plot(train_accs, label='TR')\n"
     ]
    },
    {
     "data": {
      "image/png": "[encoded data removed]",
      "text/plain": [
       "<Figure size 640x480 with 1 Axes>"
      ]
     },
     "metadata": {},
     "output_type": "display_data"
    }
   ],
   "source": [
    "plt.plot(train_accs, label='TR')\n",
    "plt.plot(val_accs, label='VL')\n",
    "plt.xlabel('Epoch')\n",
    "plt.ylabel('Accuracy')\n",
    "plt.axvline(x=5, color='red', linestyle='--', label='Model')\n",
    "plt.xticks([0, 1, 2, 3, 4, 5, 6, 7, 8, 9], [1, 2, 3, 4, 5, 6, 7, 8, 9, 10]) \n",
    "plt.legend()\n",
    "plt.savefig('accs_A.png', bbox_inches=\"tight\")\n",
    "plt.show()"
   ]
  },
  {
   "cell_type": "code",
   "execution_count": 50,
   "id": "66897f63-a7c6-42b9-b64e-088e1a5ece18",
   "metadata": {},
   "outputs": [
    {
     "name": "stderr",
     "output_type": "stream",
     "text": [
      "/tmp/ipykernel_389034/1392079603.py:1: UserWarning: cmr10 font should ideally be used with mathtext, set axes.formatter.use_mathtext to True\n",
      "  plt.plot(train_f1s, label='TR')\n"
     ]
    },
    {
     "data": {
      "image/png": "[encoded data removed]",
      "text/plain": [
       "<Figure size 640x480 with 1 Axes>"
      ]
     },
     "metadata": {},
     "output_type": "display_data"
    }
   ],
   "source": [
    "plt.plot(train_f1s, label='TR')\n",
    "plt.plot(val_f1s, label='VL')\n",
    "plt.xlabel('Epoch')\n",
    "plt.ylabel('F1 (Macro)')\n",
    "plt.axvline(x=5, color='red', linestyle='--', label='Model')\n",
    "plt.xticks([0, 1, 2, 3, 4, 5, 6, 7, 8, 9], [1, 2, 3, 4, 5, 6, 7, 8, 9, 10]) \n",
    "plt.legend()\n",
    "plt.savefig('f1s_A.png', bbox_inches=\"tight\")\n",
    "plt.show()"
   ]
  },
  {
   "cell_type": "markdown",
   "id": "0c557a79-26be-41b5-adae-d8000c8924cf",
   "metadata": {},
   "source": [
    "## Testing"
   ]
  },
  {
   "cell_type": "code",
   "execution_count": 28,
   "id": "511963cb-4df1-4c3a-bbab-b4c495ebf2d6",
   "metadata": {},
   "outputs": [
    {
     "name": "stdout",
     "output_type": "stream",
     "text": [
      "24\n"
     ]
    }
   ],
   "source": [
    "prompt_tuning_init_text = 'Decide if the following text has been written by a human (0) or by a language model (1).'\n",
    "print(len(tokenizer(prompt_tuning_init_text)['input_ids']))"
   ]
  },
  {
   "cell_type": "code",
   "execution_count": 29,
   "id": "edf234bd-901e-41e6-8acd-37542bceffff",
   "metadata": {},
   "outputs": [],
   "source": [
    "peft_config = PromptTuningConfig(\n",
    "    task_type=TaskType.CAUSAL_LM, \n",
    "    prompt_tuning_init=PromptTuningInit.TEXT, \n",
    "    num_virtual_tokens=24, \n",
    "    prompt_tuning_init_text=prompt_tuning_init_text,\n",
    "    tokenizer_name_or_path=model_tokenizer_path,\n",
    ")"
   ]
  },
  {
   "cell_type": "code",
   "execution_count": 30,
   "id": "38e53e67-58b7-4b77-b41b-c14e26e0f97b",
   "metadata": {},
   "outputs": [
    {
     "data": {
      "application/vnd.jupyter.widget-view+json": {
       "model_id": "62a7623fa9be40368dff71bf35db478b",
       "version_major": 2,
       "version_minor": 0
      },
      "text/plain": [
       "Loading checkpoint shards:   0%|          | 0/2 [00:00<?, ?it/s]"
      ]
     },
     "metadata": {},
     "output_type": "display_data"
    },
    {
     "data": {
      "text/plain": [
       "<All keys matched successfully>"
      ]
     },
     "execution_count": 30,
     "metadata": {},
     "output_type": "execute_result"
    }
   ],
   "source": [
    "trained_parameters = 'mistral_A_epoch_5.pth' # file pth with model at epoch 5\n",
    "model = AutoModelForCausalLM.from_pretrained(model_tokenizer_path, torch_dtype=torch.float16)\n",
    "model = get_peft_model(model, peft_config)\n",
    "model.load_state_dict(torch.load(trained_parameters)) "
   ]
  },
  {
   "cell_type": "code",
   "execution_count": 31,
   "id": "7ddbd92b-c5a2-4bcd-a4dd-7b680e569e4e",
   "metadata": {},
   "outputs": [],
   "source": [
    "device = 'cuda' if torch.cuda.is_available() else 'cpu'\n",
    "model.to(device);"
   ]
  },
  {
   "cell_type": "code",
   "execution_count": 32,
   "id": "38e90d5d-75f0-4375-87e4-8835c51f038a",
   "metadata": {},
   "outputs": [
    {
     "data": {
      "application/vnd.jupyter.widget-view+json": {
       "model_id": "491b3355d32042a8bd9fe0a627eba163",
       "version_major": 2,
       "version_minor": 0
      },
      "text/plain": [
       "  0%|          | 0/1497 [00:00<?, ?it/s]"
      ]
     },
     "metadata": {},
     "output_type": "display_data"
    },
    {
     "name": "stderr",
     "output_type": "stream",
     "text": [
      "/home/g.fidone/hlt/lib/python3.10/site-packages/peft/peft_model.py:1166: UserWarning: Position ids are not supported for parameter efficient tuning. Ignoring position ids.\n",
      "  warnings.warn(\"Position ids are not supported for parameter efficient tuning. Ignoring position ids.\")\n"
     ]
    }
   ],
   "source": [
    "outputs = list()\n",
    "for step, batch in enumerate(tqdm(test)):\n",
    "        batch = {k: v.to(device) for k, v in batch.items()}\n",
    "        with torch.no_grad(): # deterministic auto-regressive generation imposing  max_new_tokens=1\n",
    "            batch_out = model.generate(**batch, max_new_tokens=1, do_sample=False, eos_token_id=tokenizer.eos_token_id, pad_token_id=tokenizer.pad_token_id)\n",
    "            decoded_batch_out = tokenizer.batch_decode(batch_out.detach().cpu().numpy(), skip_special_tokens=True)\n",
    "            outputs.extend(decoded_batch_out)"
   ]
  },
  {
   "cell_type": "code",
   "execution_count": 33,
   "id": "cb51db5f-570e-4cb7-bcb7-993a23ac03a3",
   "metadata": {},
   "outputs": [],
   "source": [
    "y_pred = get_labels_from_texts(outputs, [0, 1])"
   ]
  },
  {
   "cell_type": "code",
   "execution_count": 34,
   "id": "26b5b475-a481-4404-8e5c-de0f269e1587",
   "metadata": {},
   "outputs": [
    {
     "name": "stdout",
     "output_type": "stream",
     "text": [
      "              precision    recall  f1-score   support\n",
      "\n",
      "           0      0.992     0.960     0.976      6298\n",
      "           1      0.957     0.991     0.974      5678\n",
      "\n",
      "    accuracy                          0.975     11976\n",
      "   macro avg      0.974     0.976     0.975     11976\n",
      "weighted avg      0.975     0.975     0.975     11976\n",
      "\n"
     ]
    }
   ],
   "source": [
    "print(classification_report(y_test, y_pred, digits=3))"
   ]
  },
  {
   "cell_type": "code",
   "execution_count": 36,
   "id": "10a796d8-4e23-4ae6-b826-0c7f8cc32735",
   "metadata": {},
   "outputs": [
    {
     "name": "stderr",
     "output_type": "stream",
     "text": [
      "/home/g.fidone/hlt/lib/python3.10/site-packages/seaborn/matrix.py:456: UserWarning: cmr10 font should ideally be used with mathtext, set axes.formatter.use_mathtext to True\n",
      "  ax = plt.gca()\n",
      "/home/g.fidone/hlt/lib/python3.10/site-packages/seaborn/matrix.py:316: UserWarning: cmr10 font should ideally be used with mathtext, set axes.formatter.use_mathtext to True\n",
      "  cb = ax.figure.colorbar(mesh, cax, ax, **self.cbar_kws)\n"
     ]
    },
    {
     "data": {
      "image/png": "[encoded data removed]",
      "text/plain": [
       "<Figure size 600x400 with 2 Axes>"
      ]
     },
     "metadata": {},
     "output_type": "display_data"
    }
   ],
   "source": [
    "cm = confusion_matrix(y_test, y_pred)\n",
    "plt.figure(figsize=(6, 4))\n",
    "sns.heatmap(cm, annot=True, fmt='d', cmap='Blues', xticklabels=['Human', 'Machine'], yticklabels=['Human', 'Machine'])\n",
    "plt.xlabel('Predicted')\n",
    "plt.ylabel('True')\n",
    "plt.title('Confusion Matrix')\n",
    "plt.savefig('confusion_A.png', bbox_inches=\"tight\")\n",
    "plt.show()"
   ]
  }
 ],
 "metadata": {
  "kernelspec": {
   "display_name": "hlt",
   "language": "python",
   "name": "hlt"
  },
  "language_info": {
   "codemirror_mode": {
    "name": "ipython",
    "version": 3
   },
   "file_extension": ".py",
   "mimetype": "text/x-python",
   "name": "python",
   "nbconvert_exporter": "python",
   "pygments_lexer": "ipython3",
   "version": "3.10.12"
  }
 },
 "nbformat": 4,
 "nbformat_minor": 5
}
