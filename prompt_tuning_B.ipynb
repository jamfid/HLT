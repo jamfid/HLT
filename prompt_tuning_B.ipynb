{
 "cells": [
  {
   "cell_type": "markdown",
   "id": "36524d71",
   "metadata": {},
   "source": [
    "# Imports"
   ]
  },
  {
   "cell_type": "code",
   "execution_count": 2,
   "id": "9aa41ace",
   "metadata": {},
   "outputs": [
    {
     "name": "stderr",
     "output_type": "stream",
     "text": [
      "/home/g.fidone/hlt/lib/python3.10/site-packages/transformers/utils/generic.py:441: UserWarning: torch.utils._pytree._register_pytree_node is deprecated. Please use torch.utils._pytree.register_pytree_node instead.\n",
      "  _torch_pytree._register_pytree_node(\n",
      "/home/g.fidone/hlt/lib/python3.10/site-packages/torch/cuda/__init__.py:628: UserWarning: Can't initialize NVML\n",
      "  warnings.warn(\"Can't initialize NVML\")\n",
      "/home/g.fidone/hlt/lib/python3.10/site-packages/transformers/utils/generic.py:309: UserWarning: torch.utils._pytree._register_pytree_node is deprecated. Please use torch.utils._pytree.register_pytree_node instead.\n",
      "  _torch_pytree._register_pytree_node(\n"
     ]
    }
   ],
   "source": [
    "# general\n",
    "import torch\n",
    "import numpy as np\n",
    "from tqdm.notebook import tqdm\n",
    "import random\n",
    "import warnings\n",
    "\n",
    "# data\n",
    "from torch.utils.data import DataLoader\n",
    "from datasets import Dataset, load_dataset\n",
    "\n",
    "# visualization\n",
    "import matplotlib.pyplot as plt\n",
    "import seaborn as sns\n",
    "\n",
    "# model\n",
    "from transformers import AutoModelForCausalLM, AutoTokenizer, default_data_collator\n",
    "from peft import get_peft_config, get_peft_model, PromptTuningInit, PromptTuningConfig, TaskType, PeftType\n",
    "from sklearn.metrics import classification_report, accuracy_score, f1_score, confusion_matrix\n",
    "from torch.optim.lr_scheduler import ExponentialLR\n",
    "\n",
    "# custom\n",
    "from utils import * # custom py file"
   ]
  },
  {
   "cell_type": "code",
   "execution_count": 3,
   "id": "0efaf014-7231-46dc-b3b6-f501c541829a",
   "metadata": {},
   "outputs": [],
   "source": [
    "sns.set_theme(style=\"whitegrid\", font='cmr10', font_scale=1.5)"
   ]
  },
  {
   "cell_type": "markdown",
   "id": "180b5339-c9ed-4fbd-9b17-538614bd0a77",
   "metadata": {},
   "source": [
    "# Reproducibility"
   ]
  },
  {
   "cell_type": "code",
   "execution_count": 4,
   "id": "8622d036-4231-42db-a500-dada23a8b1b0",
   "metadata": {},
   "outputs": [],
   "source": [
    "SEED = 42\n",
    "determinism = True\n",
    "if determinism:\n",
    "    set_deterministic_mode(SEED) # custom function (see utils.py)"
   ]
  },
  {
   "cell_type": "markdown",
   "id": "ad4f07db-1417-4ca1-89b3-75e24e3507ac",
   "metadata": {},
   "source": [
    "# Data"
   ]
  },
  {
   "cell_type": "code",
   "execution_count": 5,
   "id": "e583fa6c",
   "metadata": {},
   "outputs": [],
   "source": [
    "train = load_dataset('json', data_files='subtaskB_train_sample.jsonl', split='train')\n",
    "val = load_dataset('json', data_files='subtaskB_dev.jsonl', split='train')\n",
    "test = load_dataset('json', data_files='subtaskB_test.jsonl', split='train')"
   ]
  },
  {
   "cell_type": "code",
   "execution_count": 6,
   "id": "15b96408",
   "metadata": {},
   "outputs": [
    {
     "name": "stdout",
     "output_type": "stream",
     "text": [
      "(51139, 5) (3000, 5) (7103, 5)\n"
     ]
    }
   ],
   "source": [
    "print(train.shape, val.shape, test.shape)"
   ]
  },
  {
   "cell_type": "code",
   "execution_count": 7,
   "id": "a8c696f7",
   "metadata": {},
   "outputs": [],
   "source": [
    "model_tokenizer_path = 'mistralai/Mistral-7B-v0.1' "
   ]
  },
  {
   "cell_type": "code",
   "execution_count": 8,
   "id": "3e2ff22d",
   "metadata": {},
   "outputs": [],
   "source": [
    "tokenizer = AutoTokenizer.from_pretrained(model_tokenizer_path) # initializing tokenizer\n",
    "if tokenizer.pad_token_id is None:\n",
    "    tokenizer.pad_token_id = tokenizer.eos_token_id"
   ]
  },
  {
   "cell_type": "code",
   "execution_count": 9,
   "id": "cfd622fd",
   "metadata": {},
   "outputs": [],
   "source": [
    "max_length = 110"
   ]
  },
  {
   "cell_type": "code",
   "execution_count": 10,
   "id": "18d6fdfc",
   "metadata": {},
   "outputs": [],
   "source": [
    "train = train.map(\n",
    "    lambda example: tokenize(example, tokenizer, max_length, labeled=True), # custom function (see utils.py)\n",
    "    batched=True,\n",
    "    desc=\"Running tokenizer on dataset\",\n",
    ")"
   ]
  },
  {
   "cell_type": "code",
   "execution_count": 11,
   "id": "be447de1",
   "metadata": {},
   "outputs": [],
   "source": [
    "val = val.map(\n",
    "    lambda example: tokenize(example, tokenizer, max_length, labeled=True),\n",
    "    batched=True,\n",
    "    desc=\"Running tokenizer on dataset\",\n",
    ")"
   ]
  },
  {
   "cell_type": "code",
   "execution_count": 12,
   "id": "6efe9b9f-8bae-4635-9ca5-7fe42b449303",
   "metadata": {},
   "outputs": [],
   "source": [
    "test = test.map( \n",
    "    lambda example: tokenize(example, tokenizer, max_length, labeled=False),\n",
    "    batched=True,\n",
    "    desc=\"Running tokenizer on dataset\",\n",
    ")"
   ]
  },
  {
   "cell_type": "code",
   "execution_count": 13,
   "id": "9a3965eb-b130-4b09-803d-52b913e815f3",
   "metadata": {},
   "outputs": [
    {
     "data": {
      "text/plain": [
       "'Text: \"\\n\\n\\nThese two skeins should be treated as if they were one, so make sure the two ends line up.\\nBefore you start, make sure the yarn can unfurl from the skeins easily.;\\n,\\n\\n\\nThe yarn attached to the ball is the working yarn.\\nMake sure the working yarn is to your left, and the tail is to your right.\\n\\n,,,,\\n\\n\\nMake sure the loop is loose enough to move up \" \\nLabel: 0'"
      ]
     },
     "execution_count": 13,
     "metadata": {},
     "output_type": "execute_result"
    }
   ],
   "source": [
    "# input example (labeled)\n",
    "\n",
    "tokenizer.decode(train[0]['input_ids'], skip_special_tokens=True)"
   ]
  },
  {
   "cell_type": "code",
   "execution_count": 14,
   "id": "97b00a31-a585-48a3-8f66-add0b885f44c",
   "metadata": {},
   "outputs": [
    {
     "data": {
      "text/plain": [
       "'Text: \"Athletics at the 2006 Commonwealth Games – Men\\'s 200 metres Commonwealth Games was held in Delhi, India between 3 and 14 October 2006. The 200 metres event was held on the first day of the Games. Indian sprinter P.V. Sindhu won the most coveted gold medal of the Games. Two other Indian athletes, Sajjad Hiqal and Navendu Khat \" \\nLabel: '"
      ]
     },
     "execution_count": 14,
     "metadata": {},
     "output_type": "execute_result"
    }
   ],
   "source": [
    "# input example (unlabeled)\n",
    "\n",
    "tokenizer.decode(test[0]['input_ids'], skip_special_tokens=True)"
   ]
  },
  {
   "cell_type": "code",
   "execution_count": 15,
   "id": "765ec44d",
   "metadata": {},
   "outputs": [
    {
     "data": {
      "text/plain": [
       "Dataset({\n",
       "    features: ['text', 'model', 'source', 'label', 'id', 'input_ids', 'attention_mask', 'labels'],\n",
       "    num_rows: 51139\n",
       "})"
      ]
     },
     "execution_count": 15,
     "metadata": {},
     "output_type": "execute_result"
    }
   ],
   "source": [
    "train"
   ]
  },
  {
   "cell_type": "code",
   "execution_count": 16,
   "id": "8ba6d5cb",
   "metadata": {},
   "outputs": [
    {
     "data": {
      "text/plain": [
       "Dataset({\n",
       "    features: ['text', 'model', 'source', 'label', 'id', 'input_ids', 'attention_mask', 'labels'],\n",
       "    num_rows: 3000\n",
       "})"
      ]
     },
     "execution_count": 16,
     "metadata": {},
     "output_type": "execute_result"
    }
   ],
   "source": [
    "val"
   ]
  },
  {
   "cell_type": "code",
   "execution_count": 17,
   "id": "cab9054d",
   "metadata": {},
   "outputs": [
    {
     "data": {
      "text/plain": [
       "Dataset({\n",
       "    features: ['text', 'model', 'source', 'label', 'id', 'input_ids', 'attention_mask', 'labels'],\n",
       "    num_rows: 7103\n",
       "})"
      ]
     },
     "execution_count": 17,
     "metadata": {},
     "output_type": "execute_result"
    }
   ],
   "source": [
    "test"
   ]
  },
  {
   "cell_type": "code",
   "execution_count": 18,
   "id": "f190c942-b10f-4945-9619-f6cb02f13937",
   "metadata": {},
   "outputs": [],
   "source": [
    "# saving y vectors – y_train is generated within the training loop, as train is shuffled over epochs\n",
    "\n",
    "y_val = val['label']\n",
    "y_test = test['label']"
   ]
  },
  {
   "cell_type": "code",
   "execution_count": 19,
   "id": "dc5694be",
   "metadata": {},
   "outputs": [],
   "source": [
    "# removing unnecessary columns\n",
    "\n",
    "train = train.remove_columns(['id', 'text', 'source', 'label', 'model'])\n",
    "val = val.remove_columns(['id', 'text', 'source', 'label', 'model'])\n",
    "test = test.remove_columns(['id', 'text', 'source', 'label', 'model'])"
   ]
  },
  {
   "cell_type": "code",
   "execution_count": 20,
   "id": "ca9f7b15-3461-4fc8-8f0d-103b972c3651",
   "metadata": {},
   "outputs": [
    {
     "data": {
      "text/plain": [
       "Dataset({\n",
       "    features: ['input_ids', 'attention_mask', 'labels'],\n",
       "    num_rows: 51139\n",
       "})"
      ]
     },
     "execution_count": 20,
     "metadata": {},
     "output_type": "execute_result"
    }
   ],
   "source": [
    "train"
   ]
  },
  {
   "cell_type": "code",
   "execution_count": 21,
   "id": "dbb71ffd-ae0c-40f0-87bc-7723fb723ca0",
   "metadata": {},
   "outputs": [
    {
     "data": {
      "text/plain": [
       "Dataset({\n",
       "    features: ['input_ids', 'attention_mask', 'labels'],\n",
       "    num_rows: 3000\n",
       "})"
      ]
     },
     "execution_count": 21,
     "metadata": {},
     "output_type": "execute_result"
    }
   ],
   "source": [
    "val"
   ]
  },
  {
   "cell_type": "code",
   "execution_count": 22,
   "id": "c57cfc12-a95f-46cc-aadf-662d896b4496",
   "metadata": {},
   "outputs": [
    {
     "data": {
      "text/plain": [
       "Dataset({\n",
       "    features: ['input_ids', 'attention_mask', 'labels'],\n",
       "    num_rows: 7103\n",
       "})"
      ]
     },
     "execution_count": 22,
     "metadata": {},
     "output_type": "execute_result"
    }
   ],
   "source": [
    "test"
   ]
  },
  {
   "cell_type": "code",
   "execution_count": 23,
   "id": "8bfc184f",
   "metadata": {},
   "outputs": [],
   "source": [
    "# converting to torch\n",
    "\n",
    "train.set_format('pt', columns=['input_ids', 'attention_mask', 'labels'], output_all_columns=True)\n",
    "val.set_format('pt', columns=['input_ids', 'attention_mask', 'labels'], output_all_columns=True)\n",
    "test.set_format('pt', columns=['input_ids', 'attention_mask', 'labels'], output_all_columns=True)"
   ]
  },
  {
   "cell_type": "code",
   "execution_count": 24,
   "id": "529cf392",
   "metadata": {},
   "outputs": [],
   "source": [
    "batch_size = 8"
   ]
  },
  {
   "cell_type": "code",
   "execution_count": 25,
   "id": "cde7d6fb-9ab9-46be-be59-3b1fe547c97f",
   "metadata": {},
   "outputs": [
    {
     "data": {
      "text/plain": [
       "<torch._C.Generator at 0x7fe30f1f6ad0>"
      ]
     },
     "execution_count": 25,
     "metadata": {},
     "output_type": "execute_result"
    }
   ],
   "source": [
    "def seed_worker(worker_id): # defining worker_init_fn for dataloader\n",
    "    worker_seed = torch.initial_seed() % 2**32\n",
    "    numpy.random.seed(worker_seed)\n",
    "    random.seed(worker_seed)\n",
    "\n",
    "g = torch.Generator()\n",
    "g.manual_seed(SEED)"
   ]
  },
  {
   "cell_type": "code",
   "execution_count": 26,
   "id": "fd7bfba1",
   "metadata": {},
   "outputs": [],
   "source": [
    "train = DataLoader(\n",
    "    train, \n",
    "    shuffle=True,\n",
    "    collate_fn=default_data_collator, \n",
    "    batch_size=batch_size, \n",
    "    pin_memory=True,\n",
    "    worker_init_fn=seed_worker,\n",
    "    generator=g\n",
    ")"
   ]
  },
  {
   "cell_type": "code",
   "execution_count": 27,
   "id": "1ef1d9df",
   "metadata": {},
   "outputs": [],
   "source": [
    "val = DataLoader( \n",
    "    val, \n",
    "    shuffle=False,\n",
    "    collate_fn=default_data_collator, \n",
    "    batch_size=batch_size, \n",
    "    pin_memory=True\n",
    ")"
   ]
  },
  {
   "cell_type": "code",
   "execution_count": 28,
   "id": "0f9b9d07",
   "metadata": {},
   "outputs": [],
   "source": [
    "test = DataLoader(\n",
    "    test, \n",
    "    shuffle=False,\n",
    "    collate_fn=default_data_collator, \n",
    "    batch_size=batch_size, \n",
    "    pin_memory=True\n",
    ")"
   ]
  },
  {
   "cell_type": "markdown",
   "id": "d78198ff",
   "metadata": {},
   "source": [
    "# Model"
   ]
  },
  {
   "cell_type": "markdown",
   "id": "fb3b4c66",
   "metadata": {},
   "source": [
    "## Config"
   ]
  },
  {
   "cell_type": "code",
   "execution_count": 28,
   "id": "377237f7",
   "metadata": {},
   "outputs": [
    {
     "name": "stdout",
     "output_type": "stream",
     "text": [
      "51\n"
     ]
    }
   ],
   "source": [
    "prompt_tuning_init_text = 'Decide if the text has been written by a human (0) or by a language model among: ChatGPT (1), Cohere(2), Davinci (3), Bloomz (4) or Dolly (5).'\n",
    "print(len(tokenizer(prompt_tuning_init_text)['input_ids']))"
   ]
  },
  {
   "cell_type": "code",
   "execution_count": 29,
   "id": "5fcbe801-e2ce-416d-b252-f938ceda8c0b",
   "metadata": {},
   "outputs": [],
   "source": [
    "# hyper-parameters\n",
    "\n",
    "num_virtual_tokens = 51 # set as the length of prompt_tuning_init_text\n",
    "lr = 1e-2\n",
    "weight_decay = 2e-1 # default 1e-2\n",
    "gamma = 0.95"
   ]
  },
  {
   "cell_type": "code",
   "execution_count": 30,
   "id": "bfb70a35",
   "metadata": {},
   "outputs": [],
   "source": [
    "peft_config = PromptTuningConfig(\n",
    "    task_type=TaskType.CAUSAL_LM, \n",
    "    prompt_tuning_init=PromptTuningInit.TEXT, \n",
    "    num_virtual_tokens=num_virtual_tokens, \n",
    "    prompt_tuning_init_text=prompt_tuning_init_text,\n",
    "    tokenizer_name_or_path=model_tokenizer_path,\n",
    ")"
   ]
  },
  {
   "cell_type": "code",
   "execution_count": 31,
   "id": "18646204",
   "metadata": {},
   "outputs": [
    {
     "data": {
      "application/vnd.jupyter.widget-view+json": {
       "model_id": "f91247c18a5d447f868dea5e4437768a",
       "version_major": 2,
       "version_minor": 0
      },
      "text/plain": [
       "Loading checkpoint shards:   0%|          | 0/2 [00:00<?, ?it/s]"
      ]
     },
     "metadata": {},
     "output_type": "display_data"
    },
    {
     "name": "stdout",
     "output_type": "stream",
     "text": [
      "trainable params: 208,896 || all params: 7,241,940,992 || trainable%: 0.002884530545481694\n",
      "None\n"
     ]
    }
   ],
   "source": [
    "model = AutoModelForCausalLM.from_pretrained(model_tokenizer_path, torch_dtype=torch.float16) # model loaded with half-precision\n",
    "model = get_peft_model(model, peft_config)\n",
    "print(model.print_trainable_parameters())"
   ]
  },
  {
   "cell_type": "code",
   "execution_count": 32,
   "id": "ade9fb1d",
   "metadata": {},
   "outputs": [],
   "source": [
    "optimizer = torch.optim.AdamW(model.parameters(), lr=lr, weight_decay=weight_decay)"
   ]
  },
  {
   "cell_type": "code",
   "execution_count": 33,
   "id": "09d2c63a-47f0-40bd-acc5-e492c83f32c5",
   "metadata": {},
   "outputs": [],
   "source": [
    "lr_scheduler = torch.optim.lr_scheduler.ExponentialLR(optimizer, gamma=gamma)"
   ]
  },
  {
   "cell_type": "code",
   "execution_count": 34,
   "id": "ff421a98-43a2-4e7e-9be3-e1a15e2195f9",
   "metadata": {},
   "outputs": [
    {
     "name": "stdout",
     "output_type": "stream",
     "text": [
      "Current Tesla V100S-PCIE-32GB memory usage: 0.000/31.739 GiB\n"
     ]
    }
   ],
   "source": [
    "check_cuda_memory() # custom function (see utils.py)"
   ]
  },
  {
   "cell_type": "code",
   "execution_count": 35,
   "id": "0e176f9a",
   "metadata": {},
   "outputs": [],
   "source": [
    "device = 'cuda' if torch.cuda.is_available() else 'cpu'\n",
    "model.to(device);"
   ]
  },
  {
   "cell_type": "code",
   "execution_count": 36,
   "id": "605f0af3-954a-441f-8b90-84de7dd0c483",
   "metadata": {},
   "outputs": [
    {
     "name": "stdout",
     "output_type": "stream",
     "text": [
      "Current Tesla V100S-PCIE-32GB memory usage: 13.990/31.739 GiB\n"
     ]
    }
   ],
   "source": [
    "check_cuda_memory()"
   ]
  },
  {
   "cell_type": "markdown",
   "id": "5da590b2-32e6-4021-986a-606908d1207e",
   "metadata": {},
   "source": [
    "## Training"
   ]
  },
  {
   "cell_type": "code",
   "execution_count": 37,
   "id": "a240652c-c7e4-4979-bb7b-2e41b1d86330",
   "metadata": {},
   "outputs": [],
   "source": [
    "num_epochs = 10\n",
    "early_stopping = True"
   ]
  },
  {
   "cell_type": "code",
   "execution_count": 38,
   "id": "6653a528-3786-41e7-a9ce-bc4be64f2521",
   "metadata": {},
   "outputs": [
    {
     "data": {
      "application/vnd.jupyter.widget-view+json": {
       "model_id": "a922aec2b9ca486d94eaffd8ae8a2829",
       "version_major": 2,
       "version_minor": 0
      },
      "text/plain": [
       "Epoch 0: training (TR):   0%|          | 0/6393 [00:00<?, ?it/s]"
      ]
     },
     "metadata": {},
     "output_type": "display_data"
    },
    {
     "name": "stderr",
     "output_type": "stream",
     "text": [
      "/home/g.fidone/utils.py:113: UserWarning: A number of 325 labels have been randomly selected because generated labels did not match any expected label.\n",
      "  warnings.warn(f'A number of {missed} labels have been randomly selected because generated labels did not match any expected label.', UserWarning)\n"
     ]
    },
    {
     "data": {
      "application/vnd.jupyter.widget-view+json": {
       "model_id": "e4e3eae2ac00492b8d95577609025b7c",
       "version_major": 2,
       "version_minor": 0
      },
      "text/plain": [
       "Epoch 0: inference (VL):   0%|          | 0/375 [00:00<?, ?it/s]"
      ]
     },
     "metadata": {},
     "output_type": "display_data"
    },
    {
     "name": "stdout",
     "output_type": "stream",
     "text": [
      "Epoch 0\n",
      "TR Loss: 0.31230929493904114\tVL Loss: 0.29245325922966003\n",
      "TR Accuracy: 0.258\t\tVL Accuracy: 0.16666666666666666\n",
      "TR F1: 0.244\t\t\tVL F1 (Macro): 0.04763265694960465\n"
     ]
    },
    {
     "data": {
      "application/vnd.jupyter.widget-view+json": {
       "model_id": "795dda5fcc2e4891b3cb894df7b04318",
       "version_major": 2,
       "version_minor": 0
      },
      "text/plain": [
       "Epoch 1: training (TR):   0%|          | 0/6393 [00:00<?, ?it/s]"
      ]
     },
     "metadata": {},
     "output_type": "display_data"
    },
    {
     "name": "stderr",
     "output_type": "stream",
     "text": [
      "/home/g.fidone/utils.py:113: UserWarning: A number of 102 labels have been randomly selected because generated labels did not match any expected label.\n",
      "  warnings.warn(f'A number of {missed} labels have been randomly selected because generated labels did not match any expected label.', UserWarning)\n"
     ]
    },
    {
     "data": {
      "application/vnd.jupyter.widget-view+json": {
       "model_id": "5c5f4f3943604d928a32ae430d3cf292",
       "version_major": 2,
       "version_minor": 0
      },
      "text/plain": [
       "Epoch 1: inference (VL):   0%|          | 0/375 [00:00<?, ?it/s]"
      ]
     },
     "metadata": {},
     "output_type": "display_data"
    },
    {
     "name": "stdout",
     "output_type": "stream",
     "text": [
      "Epoch 1\n",
      "TR Loss: 0.24023793637752533\tVL Loss: 0.19326151907444\n",
      "TR Accuracy: 0.321\t\tVL Accuracy: 0.4563333333333333\n",
      "TR F1: 0.299\t\t\tVL F1 (Macro): 0.3621972874173758\n"
     ]
    },
    {
     "data": {
      "application/vnd.jupyter.widget-view+json": {
       "model_id": "0cc1b990fe144b40a2acf442b73e41be",
       "version_major": 2,
       "version_minor": 0
      },
      "text/plain": [
       "Epoch 2: training (TR):   0%|          | 0/6393 [00:00<?, ?it/s]"
      ]
     },
     "metadata": {},
     "output_type": "display_data"
    },
    {
     "name": "stderr",
     "output_type": "stream",
     "text": [
      "/home/g.fidone/utils.py:113: UserWarning: A number of 62 labels have been randomly selected because generated labels did not match any expected label.\n",
      "  warnings.warn(f'A number of {missed} labels have been randomly selected because generated labels did not match any expected label.', UserWarning)\n"
     ]
    },
    {
     "data": {
      "application/vnd.jupyter.widget-view+json": {
       "model_id": "d7b4f569174f4081b4707199a00a3202",
       "version_major": 2,
       "version_minor": 0
      },
      "text/plain": [
       "Epoch 2: inference (VL):   0%|          | 0/375 [00:00<?, ?it/s]"
      ]
     },
     "metadata": {},
     "output_type": "display_data"
    },
    {
     "name": "stdout",
     "output_type": "stream",
     "text": [
      "Epoch 2\n",
      "TR Loss: 0.17819735407829285\tVL Loss: 0.18766653537750244\n",
      "TR Accuracy: 0.516\t\tVL Accuracy: 0.395\n",
      "TR F1:  0.5\t\t\tVL F1 (Macro): 0.3422372513946623\n"
     ]
    },
    {
     "data": {
      "application/vnd.jupyter.widget-view+json": {
       "model_id": "0ac629c3b90b4c4588967ec4f6efbbc3",
       "version_major": 2,
       "version_minor": 0
      },
      "text/plain": [
       "Epoch 3: training (TR):   0%|          | 0/6393 [00:00<?, ?it/s]"
      ]
     },
     "metadata": {},
     "output_type": "display_data"
    },
    {
     "name": "stderr",
     "output_type": "stream",
     "text": [
      "/home/g.fidone/utils.py:113: UserWarning: A number of 14 labels have been randomly selected because generated labels did not match any expected label.\n",
      "  warnings.warn(f'A number of {missed} labels have been randomly selected because generated labels did not match any expected label.', UserWarning)\n"
     ]
    },
    {
     "data": {
      "application/vnd.jupyter.widget-view+json": {
       "model_id": "2dec73d6e2dc41bc9a1bc8e0428171f6",
       "version_major": 2,
       "version_minor": 0
      },
      "text/plain": [
       "Epoch 3: inference (VL):   0%|          | 0/375 [00:00<?, ?it/s]"
      ]
     },
     "metadata": {},
     "output_type": "display_data"
    },
    {
     "name": "stdout",
     "output_type": "stream",
     "text": [
      "Epoch 3\n",
      "TR Loss: 0.14009416103363037\tVL Loss: 0.1378944218158722\n",
      "TR Accuracy: 0.613\t\tVL Accuracy: 0.5706666666666667\n",
      "TR F1: 0.605\t\t\tVL F1 (Macro): 0.5077269304778885\n"
     ]
    },
    {
     "data": {
      "application/vnd.jupyter.widget-view+json": {
       "model_id": "5f070c7c5daf48c382009e77f66864f9",
       "version_major": 2,
       "version_minor": 0
      },
      "text/plain": [
       "Epoch 4: training (TR):   0%|          | 0/6393 [00:00<?, ?it/s]"
      ]
     },
     "metadata": {},
     "output_type": "display_data"
    },
    {
     "name": "stderr",
     "output_type": "stream",
     "text": [
      "/home/g.fidone/utils.py:113: UserWarning: A number of 7 labels have been randomly selected because generated labels did not match any expected label.\n",
      "  warnings.warn(f'A number of {missed} labels have been randomly selected because generated labels did not match any expected label.', UserWarning)\n"
     ]
    },
    {
     "data": {
      "application/vnd.jupyter.widget-view+json": {
       "model_id": "ff79b50ec66941ba8e58bc8d619eb46e",
       "version_major": 2,
       "version_minor": 0
      },
      "text/plain": [
       "Epoch 4: inference (VL):   0%|          | 0/375 [00:00<?, ?it/s]"
      ]
     },
     "metadata": {},
     "output_type": "display_data"
    },
    {
     "name": "stdout",
     "output_type": "stream",
     "text": [
      "Epoch 4\n",
      "TR Loss: 0.06651178002357483\tVL Loss: 0.1326969861984253\n",
      "TR Accuracy: 0.838\t\tVL Accuracy: 0.7076666666666667\n",
      "TR F1: 0.836\t\t\tVL F1 (Macro): 0.6979136344435725\n"
     ]
    },
    {
     "data": {
      "application/vnd.jupyter.widget-view+json": {
       "model_id": "b3e42d158ed841bdbaf983573b7ebd8c",
       "version_major": 2,
       "version_minor": 0
      },
      "text/plain": [
       "Epoch 5: training (TR):   0%|          | 0/6393 [00:00<?, ?it/s]"
      ]
     },
     "metadata": {},
     "output_type": "display_data"
    },
    {
     "name": "stderr",
     "output_type": "stream",
     "text": [
      "/home/g.fidone/utils.py:113: UserWarning: A number of 23 labels have been randomly selected because generated labels did not match any expected label.\n",
      "  warnings.warn(f'A number of {missed} labels have been randomly selected because generated labels did not match any expected label.', UserWarning)\n"
     ]
    },
    {
     "data": {
      "application/vnd.jupyter.widget-view+json": {
       "model_id": "5544453202c149f9a60e7ab341197981",
       "version_major": 2,
       "version_minor": 0
      },
      "text/plain": [
       "Epoch 5: inference (VL):   0%|          | 0/375 [00:00<?, ?it/s]"
      ]
     },
     "metadata": {},
     "output_type": "display_data"
    },
    {
     "name": "stdout",
     "output_type": "stream",
     "text": [
      "Epoch 5\n",
      "TR Loss: 0.0665026605129242\tVL Loss: 0.13275191187858582\n",
      "TR Accuracy: 0.844\t\tVL Accuracy: 0.6683333333333333\n",
      "TR F1: 0.842\t\t\tVL F1 (Macro): 0.6623725053214414\n"
     ]
    },
    {
     "data": {
      "application/vnd.jupyter.widget-view+json": {
       "model_id": "39589f2540c147ada73045d851e5bd7f",
       "version_major": 2,
       "version_minor": 0
      },
      "text/plain": [
       "Epoch 6: training (TR):   0%|          | 0/6393 [00:00<?, ?it/s]"
      ]
     },
     "metadata": {},
     "output_type": "display_data"
    },
    {
     "name": "stderr",
     "output_type": "stream",
     "text": [
      "/home/g.fidone/utils.py:113: UserWarning: A number of 9 labels have been randomly selected because generated labels did not match any expected label.\n",
      "  warnings.warn(f'A number of {missed} labels have been randomly selected because generated labels did not match any expected label.', UserWarning)\n"
     ]
    },
    {
     "data": {
      "application/vnd.jupyter.widget-view+json": {
       "model_id": "7838fcf5cd1042db94da0f07df3efbbf",
       "version_major": 2,
       "version_minor": 0
      },
      "text/plain": [
       "Epoch 6: inference (VL):   0%|          | 0/375 [00:00<?, ?it/s]"
      ]
     },
     "metadata": {},
     "output_type": "display_data"
    },
    {
     "name": "stdout",
     "output_type": "stream",
     "text": [
      "Epoch 6\n",
      "TR Loss: 0.06652772426605225\tVL Loss: 0.15252546966075897\n",
      "TR Accuracy: 0.842\t\tVL Accuracy: 0.6733333333333333\n",
      "TR F1: 0.841\t\t\tVL F1 (Macro): 0.655590852650021\n"
     ]
    },
    {
     "data": {
      "application/vnd.jupyter.widget-view+json": {
       "model_id": "6feba40608fb4b0db51928373858a9e1",
       "version_major": 2,
       "version_minor": 0
      },
      "text/plain": [
       "Epoch 7: training (TR):   0%|          | 0/6393 [00:00<?, ?it/s]"
      ]
     },
     "metadata": {},
     "output_type": "display_data"
    },
    {
     "name": "stderr",
     "output_type": "stream",
     "text": [
      "/home/g.fidone/utils.py:113: UserWarning: A number of 237 labels have been randomly selected because generated labels did not match any expected label.\n",
      "  warnings.warn(f'A number of {missed} labels have been randomly selected because generated labels did not match any expected label.', UserWarning)\n"
     ]
    },
    {
     "data": {
      "application/vnd.jupyter.widget-view+json": {
       "model_id": "13ff99b852304f89bc83484a38ccd48b",
       "version_major": 2,
       "version_minor": 0
      },
      "text/plain": [
       "Epoch 7: inference (VL):   0%|          | 0/375 [00:00<?, ?it/s]"
      ]
     },
     "metadata": {},
     "output_type": "display_data"
    },
    {
     "name": "stdout",
     "output_type": "stream",
     "text": [
      "Epoch 7\n",
      "TR Loss: 0.23485304415225983\tVL Loss: 0.2581677734851837\n",
      "TR Accuracy: 0.425\t\tVL Accuracy: 0.16666666666666666\n",
      "TR F1: 0.426\t\t\tVL F1 (Macro): 0.047755491881566386\n",
      "Training early stopped at epoch 7.\n"
     ]
    }
   ],
   "source": [
    "early_stopper = EarlyStopper(patience=2, delta=1e-2) # custom object (see utils.py)\n",
    "\n",
    "train_losses = list()\n",
    "val_losses = list()\n",
    "train_pps = list()\n",
    "val_pps = list()\n",
    "train_accs = list()\n",
    "val_accs = list()\n",
    "train_f1s = list()\n",
    "val_f1s = list()\n",
    "    \n",
    "# training loop\n",
    "\n",
    "for epoch in range(num_epochs):\n",
    "    model.train()\n",
    "    train_loss = .0\n",
    "    y_pred = list()\n",
    "    y_train = list()\n",
    "    for batch in tqdm(train, desc=f'Epoch {epoch}: training (TR)'):\n",
    "        batch = {k: v.to(device) for k, v in batch.items()} # moving batches to gpu\n",
    "        output = model(**batch) # teacher forcing\n",
    "        loss = output.loss\n",
    "        train_loss += loss.detach().float()\n",
    "        predictions = torch.argmax(output.logits, -1).detach().cpu().numpy()\n",
    "        y_pred.extend(predictions)\n",
    "        y_train.extend(get_labels_from_dataloader(batch, tokenizer)) # custom function (see utils.py)\n",
    "        loss.backward()\n",
    "        optimizer.step()\n",
    "        optimizer.zero_grad(set_to_none=True) # set_to_none=True reduces memory footprint\n",
    "    lr_scheduler.step()\n",
    "\n",
    "    y_pred = get_labels_from_predictions(y_pred, [0, 1, 2, 3, 4, 5], tokenizer) # custom function (see utils.py)\n",
    "    train_epoch_loss = train_loss / len(train) # epoch loss as mean loss over iterations (batches)\n",
    "    train_pp = torch.exp(train_epoch_loss) # pp as exponential of cross-entropy\n",
    "    train_acc = round(accuracy_score(y_train, y_pred), 3)\n",
    "    train_f1 = round(f1_score(y_train, y_pred, average='macro'), 3)\n",
    "\n",
    "    model.eval()\n",
    "    val_loss = .0\n",
    "    y_pred = list()\n",
    "    for batch in tqdm(val, desc=f'Epoch {epoch}: inference (VL)'):\n",
    "        batch = {k: v.to(device) for k, v in batch.items()}\n",
    "        with torch.no_grad():\n",
    "            output = model(**batch)\n",
    "        loss = output.loss\n",
    "        val_loss += loss.detach().float()\n",
    "        predictions = torch.argmax(output.logits, -1).detach().cpu().numpy()\n",
    "        y_pred.extend(predictions)\n",
    "\n",
    "    y_pred = get_labels_from_predictions(y_pred, [0, 1, 2, 3, 4, 5], tokenizer) \n",
    "    val_epoch_loss = val_loss / len(val)\n",
    "    val_pp = torch.exp(val_epoch_loss)\n",
    "    val_acc = round(accuracy_score(y_val, y_pred), 3)\n",
    "    val_f1 = round(f1_score(y_val, y_pred, average='macro'), 3)\n",
    "\n",
    "    train_epoch_loss = train_epoch_loss.detach().cpu().item()\n",
    "    val_epoch_loss = val_epoch_loss.detach().cpu().item()\n",
    "    train_pp = train_pp.detach().cpu().item()\n",
    "    val_pp = val_pp.detach().cpu().item()\n",
    "\n",
    "    train_losses.append(train_epoch_loss)\n",
    "    val_losses.append(val_epoch_loss)\n",
    "    train_pps.append(train_pp)\n",
    "    val_pps.append(val_pp)\n",
    "    train_accs.append(train_acc)\n",
    "    val_accs.append(val_acc)\n",
    "    train_f1s.append(train_f1)\n",
    "    val_f1s.append(val_f1)\n",
    "    \n",
    "    print(f'Epoch {epoch}')\n",
    "    print(f'TR Loss: {train_epoch_loss:12}\\tVL Loss: {val_epoch_loss:12}')  # logging\n",
    "    print(f'TR Accuracy: {train_acc:4}\\t\\tVL Accuracy: {val_acc:4}')\n",
    "    print(f'TR F1: {train_f1:4}\\t\\t\\tVL F1 (Macro): {val_f1:4}')\n",
    "    \n",
    "    if early_stopping:\n",
    "        counter, stop = early_stopper(val_epoch_loss)\n",
    "        if stop:\n",
    "            print(f'Training early stopped at epoch {epoch}.')\n",
    "            torch.save(model.state_dict(), f'mistral_B_epoch_{epoch}.pth')\n",
    "            break\n",
    "        if counter == 0:\n",
    "            torch.save(model.state_dict(), f'mistral_B_epoch_{epoch}.pth') # saving model at optimal value of validation loss (before possible increase)"
   ]
  },
  {
   "cell_type": "code",
   "execution_count": 42,
   "id": "d6d4eb43-8be1-4055-976f-30e0aba34953",
   "metadata": {},
   "outputs": [
    {
     "name": "stderr",
     "output_type": "stream",
     "text": [
      "/tmp/ipykernel_379971/494781718.py:1: UserWarning: cmr10 font should ideally be used with mathtext, set axes.formatter.use_mathtext to True\n",
      "  plt.plot(train_losses, label='TR')\n"
     ]
    },
    {
     "data": {
      "image/png": "[encoded data removed]",
      "text/plain": [
       "<Figure size 640x480 with 1 Axes>"
      ]
     },
     "metadata": {},
     "output_type": "display_data"
    }
   ],
   "source": [
    "plt.plot(train_losses, label='TR')\n",
    "plt.plot(val_losses, label='VL')\n",
    "plt.xlabel('Epoch')\n",
    "plt.ylabel('Loss')\n",
    "plt.axvline(x=4, color='red', linestyle='--', label='Model')\n",
    "plt.xticks([0, 1, 2, 3, 4, 5, 6, 7], [1, 2, 3, 4, 5, 6, 7, 8]) \n",
    "plt.legend()\n",
    "plt.savefig('learning_curves_B.png',  bbox_inches=\"tight\")\n",
    "plt.show()"
   ]
  },
  {
   "cell_type": "code",
   "execution_count": 44,
   "id": "39f5fc16-9b86-4e4c-947b-7dc21b4a76cb",
   "metadata": {},
   "outputs": [
    {
     "name": "stderr",
     "output_type": "stream",
     "text": [
      "/tmp/ipykernel_378477/1901921175.py:1: UserWarning: cmr10 font should ideally be used with mathtext, set axes.formatter.use_mathtext to True\n",
      "  plt.plot(train_accs, label='TR')\n"
     ]
    },
    {
     "data": {
      "image/png": "[encoded data removed]",
      "text/plain": [
       "<Figure size 640x480 with 1 Axes>"
      ]
     },
     "metadata": {},
     "output_type": "display_data"
    }
   ],
   "source": [
    "plt.plot(train_accs, label='TR')\n",
    "plt.plot(val_accs, label='VL')\n",
    "plt.xlabel('Epoch')\n",
    "plt.ylabel('Accuracy')\n",
    "plt.axvline(x=4, color='red', linestyle='--', label='Model')\n",
    "plt.xticks([0, 1, 2, 3, 4, 5, 6], [1, 2, 3, 4, 5, 6, 7]) \n",
    "plt.legend()\n",
    "plt.savefig('accs_B.png', bbox_inches=\"tight\")\n",
    "plt.show()"
   ]
  },
  {
   "cell_type": "code",
   "execution_count": 45,
   "id": "984c8b36-3642-4ea3-9d48-02c2133f150b",
   "metadata": {},
   "outputs": [
    {
     "name": "stderr",
     "output_type": "stream",
     "text": [
      "/tmp/ipykernel_379971/3507218466.py:1: UserWarning: cmr10 font should ideally be used with mathtext, set axes.formatter.use_mathtext to True\n",
      "  plt.plot(train_f1s, label='TR')\n"
     ]
    },
    {
     "data": {
      "image/png": "[encoded data removed]",
      "text/plain": [
       "<Figure size 640x480 with 1 Axes>"
      ]
     },
     "metadata": {},
     "output_type": "display_data"
    }
   ],
   "source": [
    "plt.plot(train_f1s, label='TR')\n",
    "plt.plot(val_f1s, label='VL')\n",
    "plt.xlabel('Epoch')\n",
    "plt.ylabel('F1 (Macro)')\n",
    "plt.axvline(x=4, color='red', linestyle='--', label='Model')\n",
    "plt.xticks([0, 1, 2, 3, 4, 5, 6, 7], [1, 2, 3, 4, 5, 6, 7, 8]) \n",
    "plt.legend()\n",
    "plt.savefig('f1s_B.png', bbox_inches=\"tight\")\n",
    "plt.show()"
   ]
  },
  {
   "cell_type": "markdown",
   "id": "0c557a79-26be-41b5-adae-d8000c8924cf",
   "metadata": {},
   "source": [
    "## Testing"
   ]
  },
  {
   "cell_type": "code",
   "execution_count": 29,
   "id": "511963cb-4df1-4c3a-bbab-b4c495ebf2d6",
   "metadata": {},
   "outputs": [
    {
     "name": "stdout",
     "output_type": "stream",
     "text": [
      "51\n"
     ]
    }
   ],
   "source": [
    "prompt_tuning_init_text = 'Decide if the text has been written by a human (0) or by a language model among: ChatGPT (1), Cohere(2), Davinci (3), Bloomz (4) or Dolly (5).'\n",
    "print(len(tokenizer(prompt_tuning_init_text)['input_ids']))"
   ]
  },
  {
   "cell_type": "code",
   "execution_count": 30,
   "id": "edf234bd-901e-41e6-8acd-37542bceffff",
   "metadata": {},
   "outputs": [],
   "source": [
    "peft_config = PromptTuningConfig(\n",
    "    task_type=TaskType.CAUSAL_LM, \n",
    "    prompt_tuning_init=PromptTuningInit.TEXT, \n",
    "    num_virtual_tokens=51, \n",
    "    prompt_tuning_init_text=prompt_tuning_init_text,\n",
    "    tokenizer_name_or_path=model_tokenizer_path,\n",
    ")"
   ]
  },
  {
   "cell_type": "code",
   "execution_count": 31,
   "id": "38e53e67-58b7-4b77-b41b-c14e26e0f97b",
   "metadata": {},
   "outputs": [
    {
     "data": {
      "application/vnd.jupyter.widget-view+json": {
       "model_id": "d9306b51f85648d3bd4e026ed176629c",
       "version_major": 2,
       "version_minor": 0
      },
      "text/plain": [
       "Loading checkpoint shards:   0%|          | 0/2 [00:00<?, ?it/s]"
      ]
     },
     "metadata": {},
     "output_type": "display_data"
    },
    {
     "data": {
      "text/plain": [
       "<All keys matched successfully>"
      ]
     },
     "execution_count": 31,
     "metadata": {},
     "output_type": "execute_result"
    }
   ],
   "source": [
    "trained_parameters = 'mistral_B_epoch_4.pth' # file pth with model at epoch 4\n",
    "model = AutoModelForCausalLM.from_pretrained(model_tokenizer_path, torch_dtype=torch.float16)\n",
    "model = get_peft_model(model, peft_config)\n",
    "model.load_state_dict(torch.load(trained_parameters)) "
   ]
  },
  {
   "cell_type": "code",
   "execution_count": 32,
   "id": "7ddbd92b-c5a2-4bcd-a4dd-7b680e569e4e",
   "metadata": {},
   "outputs": [],
   "source": [
    "device = 'cuda' if torch.cuda.is_available() else 'cpu'\n",
    "model.to(device);"
   ]
  },
  {
   "cell_type": "code",
   "execution_count": 33,
   "id": "38e90d5d-75f0-4375-87e4-8835c51f038a",
   "metadata": {},
   "outputs": [
    {
     "data": {
      "application/vnd.jupyter.widget-view+json": {
       "model_id": "32efbd9a8843493286dc8d5a23f68273",
       "version_major": 2,
       "version_minor": 0
      },
      "text/plain": [
       "  0%|          | 0/888 [00:00<?, ?it/s]"
      ]
     },
     "metadata": {},
     "output_type": "display_data"
    },
    {
     "name": "stderr",
     "output_type": "stream",
     "text": [
      "/home/g.fidone/hlt/lib/python3.10/site-packages/peft/peft_model.py:1166: UserWarning: Position ids are not supported for parameter efficient tuning. Ignoring position ids.\n",
      "  warnings.warn(\"Position ids are not supported for parameter efficient tuning. Ignoring position ids.\")\n"
     ]
    }
   ],
   "source": [
    "outputs = list()\n",
    "for step, batch in enumerate(tqdm(test)):\n",
    "        batch = {k: v.to(device) for k, v in batch.items()}\n",
    "        with torch.no_grad(): # auto-regressive deterministic generation imposing max_new_tokens=1\n",
    "            batch_out = model.generate(**batch, max_new_tokens=1, do_sample=False, eos_token_id=tokenizer.eos_token_id, pad_token_id=tokenizer.pad_token_id)\n",
    "            decoded_batch_out = tokenizer.batch_decode(batch_out.detach().cpu().numpy(), skip_special_tokens=True)\n",
    "            outputs.extend(decoded_batch_out)"
   ]
  },
  {
   "cell_type": "code",
   "execution_count": 34,
   "id": "cb51db5f-570e-4cb7-bcb7-993a23ac03a3",
   "metadata": {},
   "outputs": [],
   "source": [
    "y_pred = get_labels_from_texts(outputs, [0, 1, 2, 3, 4, 5]) # custom function (see utils.py)"
   ]
  },
  {
   "cell_type": "code",
   "execution_count": 35,
   "id": "26b5b475-a481-4404-8e5c-de0f269e1587",
   "metadata": {},
   "outputs": [
    {
     "name": "stdout",
     "output_type": "stream",
     "text": [
      "              precision    recall  f1-score   support\n",
      "\n",
      "           0      0.844     0.941     0.890      1198\n",
      "           1      0.885     0.860     0.872      1148\n",
      "           2      0.854     0.925     0.888      1155\n",
      "           3      0.928     0.608     0.735      1189\n",
      "           4      0.833     0.998     0.908      1242\n",
      "           5      0.856     0.829     0.842      1171\n",
      "\n",
      "    accuracy                          0.861      7103\n",
      "   macro avg      0.867     0.860     0.856      7103\n",
      "weighted avg      0.866     0.861     0.856      7103\n",
      "\n"
     ]
    }
   ],
   "source": [
    "print(classification_report(y_test, y_pred, digits=3))"
   ]
  },
  {
   "cell_type": "code",
   "execution_count": 36,
   "id": "10a796d8-4e23-4ae6-b826-0c7f8cc32735",
   "metadata": {},
   "outputs": [
    {
     "name": "stderr",
     "output_type": "stream",
     "text": [
      "/home/g.fidone/hlt/lib/python3.10/site-packages/seaborn/matrix.py:456: UserWarning: cmr10 font should ideally be used with mathtext, set axes.formatter.use_mathtext to True\n",
      "  ax = plt.gca()\n",
      "/home/g.fidone/hlt/lib/python3.10/site-packages/seaborn/matrix.py:316: UserWarning: cmr10 font should ideally be used with mathtext, set axes.formatter.use_mathtext to True\n",
      "  cb = ax.figure.colorbar(mesh, cax, ax, **self.cbar_kws)\n"
     ]
    },
    {
     "data": {
      "image/png": "[encoded data removed]",
      "text/plain": [
       "<Figure size 600x400 with 2 Axes>"
      ]
     },
     "metadata": {},
     "output_type": "display_data"
    }
   ],
   "source": [
    "cm = confusion_matrix(y_test, y_pred)\n",
    "plt.figure(figsize=(6, 4))\n",
    "sns.heatmap(cm, annot=True, fmt='d', cmap='Blues', xticklabels=['Human', 'ChatGPT', 'Cohere', 'Davinci', 'Bloomz', 'Dolly'], yticklabels=['Human', 'ChatGPT', 'Cohere', 'Davinci', 'Bloomz', 'Dolly'])\n",
    "plt.xlabel('Predicted')\n",
    "plt.ylabel('True')\n",
    "plt.savefig('conf_B.png', bbox_inches=\"tight\")\n",
    "plt.show()"
   ]
  }
 ],
 "metadata": {
  "kernelspec": {
   "display_name": "hlt",
   "language": "python",
   "name": "hlt"
  },
  "language_info": {
   "codemirror_mode": {
    "name": "ipython",
    "version": 3
   },
   "file_extension": ".py",
   "mimetype": "text/x-python",
   "name": "python",
   "nbconvert_exporter": "python",
   "pygments_lexer": "ipython3",
   "version": "3.10.12"
  }
 },
 "nbformat": 4,
 "nbformat_minor": 5
}
