{
 "cells": [
  {
   "cell_type": "markdown",
   "id": "265dba14-a3ac-492d-950a-baf619236273",
   "metadata": {},
   "source": [
    "# Imports"
   ]
  },
  {
   "cell_type": "code",
   "execution_count": 1,
   "id": "6ce0e757-6250-456a-a3c7-4f15e5c757a3",
   "metadata": {},
   "outputs": [
    {
     "name": "stderr",
     "output_type": "stream",
     "text": [
      "/home/g.fidone/hlt/lib/python3.10/site-packages/transformers/utils/generic.py:441: UserWarning: torch.utils._pytree._register_pytree_node is deprecated. Please use torch.utils._pytree.register_pytree_node instead.\n",
      "  _torch_pytree._register_pytree_node(\n",
      "/home/g.fidone/hlt/lib/python3.10/site-packages/torch/cuda/__init__.py:628: UserWarning: Can't initialize NVML\n",
      "  warnings.warn(\"Can't initialize NVML\")\n",
      "/home/g.fidone/hlt/lib/python3.10/site-packages/transformers/utils/generic.py:309: UserWarning: torch.utils._pytree._register_pytree_node is deprecated. Please use torch.utils._pytree.register_pytree_node instead.\n",
      "  _torch_pytree._register_pytree_node(\n"
     ]
    }
   ],
   "source": [
    "# general\n",
    "import torch\n",
    "from tqdm.notebook import tqdm\n",
    "\n",
    "# data\n",
    "from torch.utils.data import DataLoader\n",
    "from datasets import load_dataset\n",
    "\n",
    "# visualization\n",
    "import matplotlib.pyplot as plt\n",
    "import seaborn as sns\n",
    "\n",
    "\n",
    "# model\n",
    "from transformers import AutoTokenizer, AutoModelForSequenceClassification, default_data_collator\n",
    "from peft import LoraConfig, get_peft_model\n",
    "from torch.nn.functional import cross_entropy\n",
    "from sklearn.metrics import accuracy_score, f1_score, classification_report, confusion_matrix\n",
    "\n",
    "# custom\n",
    "from utils import * # custom py file"
   ]
  },
  {
   "cell_type": "code",
   "execution_count": 2,
   "id": "530e1977-10e0-440b-acce-95288245e9af",
   "metadata": {},
   "outputs": [],
   "source": [
    "sns.set_theme(style=\"whitegrid\", font='cmr10', font_scale=1.5)"
   ]
  },
  {
   "cell_type": "markdown",
   "id": "07d489e1-5837-46bc-930c-fef7b7e071ec",
   "metadata": {},
   "source": [
    "# Reproducibility"
   ]
  },
  {
   "cell_type": "code",
   "execution_count": 3,
   "id": "8622d036-4231-42db-a500-dada23a8b1b0",
   "metadata": {},
   "outputs": [],
   "source": [
    "SEED = 42\n",
    "determinism = True\n",
    "if determinism:\n",
    "    set_deterministic_mode(SEED) # custom function (see utils.py)"
   ]
  },
  {
   "cell_type": "markdown",
   "id": "81d6db34-f10b-4a02-a0ff-a650f9cfc773",
   "metadata": {},
   "source": [
    "# Data"
   ]
  },
  {
   "cell_type": "code",
   "execution_count": 4,
   "id": "dc5ec813-2789-4090-8a26-53ff6bdc8b33",
   "metadata": {},
   "outputs": [],
   "source": [
    "train = load_dataset('json', data_files='subtaskB_train_sample.jsonl', split='train')\n",
    "val = load_dataset('json', data_files='subtaskB_dev.jsonl', split='train')\n",
    "test = load_dataset('json', data_files='subtaskB_test.jsonl', split='train')"
   ]
  },
  {
   "cell_type": "code",
   "execution_count": 5,
   "id": "54c16423-1876-4d58-ad00-9e3e796f404a",
   "metadata": {},
   "outputs": [
    {
     "name": "stdout",
     "output_type": "stream",
     "text": [
      "(51139, 5) (3000, 5) (7103, 5)\n"
     ]
    }
   ],
   "source": [
    "print(train.shape, val.shape, test.shape)"
   ]
  },
  {
   "cell_type": "code",
   "execution_count": 6,
   "id": "ce11ba15-8294-489c-a9ff-02f6dca70f13",
   "metadata": {},
   "outputs": [
    {
     "data": {
      "text/plain": [
       "Dataset({\n",
       "    features: ['text', 'model', 'source', 'label', 'id'],\n",
       "    num_rows: 51139\n",
       "})"
      ]
     },
     "execution_count": 6,
     "metadata": {},
     "output_type": "execute_result"
    }
   ],
   "source": [
    "train"
   ]
  },
  {
   "cell_type": "code",
   "execution_count": 7,
   "id": "7d226764-43d5-4441-ba15-f5e28fc4e25b",
   "metadata": {},
   "outputs": [
    {
     "data": {
      "text/plain": [
       "Dataset({\n",
       "    features: ['text', 'model', 'source', 'label', 'id'],\n",
       "    num_rows: 3000\n",
       "})"
      ]
     },
     "execution_count": 7,
     "metadata": {},
     "output_type": "execute_result"
    }
   ],
   "source": [
    "val"
   ]
  },
  {
   "cell_type": "code",
   "execution_count": 8,
   "id": "e06c53aa-fd09-46b5-8663-6036a5b4e5e0",
   "metadata": {},
   "outputs": [
    {
     "data": {
      "text/plain": [
       "Dataset({\n",
       "    features: ['text', 'model', 'source', 'label', 'id'],\n",
       "    num_rows: 7103\n",
       "})"
      ]
     },
     "execution_count": 8,
     "metadata": {},
     "output_type": "execute_result"
    }
   ],
   "source": [
    "test"
   ]
  },
  {
   "cell_type": "code",
   "execution_count": 9,
   "id": "f1b6a711-6f9e-48ea-ac4d-2a56a9fa6f24",
   "metadata": {},
   "outputs": [],
   "source": [
    "model_tokenizer_path = 'FacebookAI/roberta-base' "
   ]
  },
  {
   "cell_type": "code",
   "execution_count": 10,
   "id": "c7ef72c8-5959-4703-938f-cdd13f9b2e01",
   "metadata": {},
   "outputs": [],
   "source": [
    "tokenizer = AutoTokenizer.from_pretrained(model_tokenizer_path) # initializing tokenizer\n",
    "if tokenizer.pad_token_id is None:\n",
    "    tokenizer.pad_token_id = tokenizer.eos_token_id"
   ]
  },
  {
   "cell_type": "code",
   "execution_count": 11,
   "id": "92a05a9d-cd0f-4953-b3e1-3bfa5040dbc0",
   "metadata": {},
   "outputs": [],
   "source": [
    "max_length = 116"
   ]
  },
  {
   "cell_type": "code",
   "execution_count": 12,
   "id": "34fa86d5-5afb-4bff-9bf6-893e403fd286",
   "metadata": {},
   "outputs": [],
   "source": [
    "train = train.map(\n",
    "          lambda text: tokenizer(text['text'], \n",
    "                                 truncation=True,\n",
    "                                 max_length=max_length, \n",
    "                                 padding=True,\n",
    "                                 return_tensors='pt'), \n",
    "          batched=True,\n",
    "          remove_columns=['id', 'text', 'source', 'model'],\n",
    "          desc=\"Running tokenizer on dataset\")"
   ]
  },
  {
   "cell_type": "code",
   "execution_count": 13,
   "id": "432221f2-15c9-43f7-b212-04de5eba5f2f",
   "metadata": {},
   "outputs": [],
   "source": [
    "val = val.map(\n",
    "          lambda text: tokenizer(text['text'], \n",
    "                                 truncation=True,\n",
    "                                 max_length=max_length, \n",
    "                                 padding=True,\n",
    "                                 return_tensors='pt'), \n",
    "          batched=True,\n",
    "          remove_columns=['id', 'text', 'source', 'model'],\n",
    "          desc=\"Running tokenizer on dataset\")"
   ]
  },
  {
   "cell_type": "code",
   "execution_count": 14,
   "id": "b0de9cbe-10c6-4263-8e10-9febfcea5c2f",
   "metadata": {},
   "outputs": [],
   "source": [
    "test = test.map(\n",
    "          lambda text: tokenizer(text['text'], \n",
    "                                 truncation=True,\n",
    "                                 max_length=max_length, \n",
    "                                 padding=True,\n",
    "                                 return_tensors='pt'), \n",
    "          batched=True,\n",
    "          remove_columns=['id', 'text', 'source', 'model'],\n",
    "          desc=\"Running tokenizer on dataset\")"
   ]
  },
  {
   "cell_type": "code",
   "execution_count": 15,
   "id": "42aa5c41-f23f-46c0-9c34-0e21dbbdb6d0",
   "metadata": {},
   "outputs": [
    {
     "data": {
      "text/plain": [
       "Dataset({\n",
       "    features: ['label', 'input_ids', 'attention_mask'],\n",
       "    num_rows: 51139\n",
       "})"
      ]
     },
     "execution_count": 15,
     "metadata": {},
     "output_type": "execute_result"
    }
   ],
   "source": [
    "train"
   ]
  },
  {
   "cell_type": "code",
   "execution_count": 16,
   "id": "911e3850-f7da-4a2f-8ffd-b2bbbb28cd89",
   "metadata": {},
   "outputs": [
    {
     "data": {
      "text/plain": [
       "Dataset({\n",
       "    features: ['label', 'input_ids', 'attention_mask'],\n",
       "    num_rows: 3000\n",
       "})"
      ]
     },
     "execution_count": 16,
     "metadata": {},
     "output_type": "execute_result"
    }
   ],
   "source": [
    "val"
   ]
  },
  {
   "cell_type": "code",
   "execution_count": 17,
   "id": "fd5c101a-3a49-49e7-8cc7-3e0e676c3069",
   "metadata": {},
   "outputs": [
    {
     "data": {
      "text/plain": [
       "Dataset({\n",
       "    features: ['label', 'input_ids', 'attention_mask'],\n",
       "    num_rows: 7103\n",
       "})"
      ]
     },
     "execution_count": 17,
     "metadata": {},
     "output_type": "execute_result"
    }
   ],
   "source": [
    "test"
   ]
  },
  {
   "cell_type": "code",
   "execution_count": 18,
   "id": "529cf392",
   "metadata": {},
   "outputs": [],
   "source": [
    "batch_size = 32"
   ]
  },
  {
   "cell_type": "code",
   "execution_count": 19,
   "id": "79a1a92e-ba32-4b0d-bf83-7194688da489",
   "metadata": {},
   "outputs": [
    {
     "data": {
      "text/plain": [
       "<torch._C.Generator at 0x7fd31257bb10>"
      ]
     },
     "execution_count": 19,
     "metadata": {},
     "output_type": "execute_result"
    }
   ],
   "source": [
    "def seed_worker(worker_id): # defining worker_init_fn for dataloader\n",
    "    worker_seed = torch.initial_seed() % 2**32\n",
    "    numpy.random.seed(worker_seed)\n",
    "    random.seed(worker_seed)\n",
    "\n",
    "g = torch.Generator()\n",
    "g.manual_seed(SEED)"
   ]
  },
  {
   "cell_type": "code",
   "execution_count": 20,
   "id": "fd7bfba1",
   "metadata": {},
   "outputs": [],
   "source": [
    "train = DataLoader(\n",
    "    train, \n",
    "    shuffle=True,\n",
    "    collate_fn=default_data_collator, \n",
    "    batch_size=batch_size, \n",
    "    pin_memory=True,\n",
    "    worker_init_fn=seed_worker,\n",
    "    generator=g\n",
    ")"
   ]
  },
  {
   "cell_type": "code",
   "execution_count": 21,
   "id": "1ef1d9df",
   "metadata": {},
   "outputs": [],
   "source": [
    "val = DataLoader( \n",
    "    val, \n",
    "    shuffle=False,\n",
    "    collate_fn=default_data_collator, \n",
    "    batch_size=batch_size, \n",
    "    pin_memory=True\n",
    ")"
   ]
  },
  {
   "cell_type": "code",
   "execution_count": 22,
   "id": "0f9b9d07",
   "metadata": {},
   "outputs": [],
   "source": [
    "test = DataLoader(\n",
    "    test, \n",
    "    shuffle=False,\n",
    "    collate_fn=default_data_collator, \n",
    "    batch_size=batch_size, \n",
    "    pin_memory=True\n",
    ")"
   ]
  },
  {
   "cell_type": "markdown",
   "id": "773c50c5-a7c0-4b06-bf5e-196d24e91910",
   "metadata": {},
   "source": [
    "# Model"
   ]
  },
  {
   "cell_type": "code",
   "execution_count": 23,
   "id": "c83aa7fa-54d1-4548-8de2-085421632cbb",
   "metadata": {},
   "outputs": [
    {
     "name": "stderr",
     "output_type": "stream",
     "text": [
      "Some weights of RobertaForSequenceClassification were not initialized from the model checkpoint at FacebookAI/roberta-base and are newly initialized: ['classifier.out_proj.weight', 'classifier.dense.bias', 'classifier.out_proj.bias', 'classifier.dense.weight']\n",
      "You should probably TRAIN this model on a down-stream task to be able to use it for predictions and inference.\n"
     ]
    }
   ],
   "source": [
    "model = AutoModelForSequenceClassification.from_pretrained(model_tokenizer_path, num_labels=6)"
   ]
  },
  {
   "cell_type": "markdown",
   "id": "4557d7dd-0b8b-457b-9d60-ceff63fdf3a6",
   "metadata": {},
   "source": [
    "1e-6, 9e-1: sembra lento af\n",
    "1e-5, 8e-1: overfitting alla seconda epoca, drop loss TR molto veloce\n",
    "1e-6, 8e-1: potrebbe continuare, ma sembra ci sia plateau alla decima epoca\n",
    "2e-6, 8e-1: "
   ]
  },
  {
   "cell_type": "code",
   "execution_count": 24,
   "id": "5fcbe801-e2ce-416d-b252-f938ceda8c0b",
   "metadata": {},
   "outputs": [],
   "source": [
    "# hyper-parameters\n",
    "\n",
    "lr = 1e-6\n",
    "weight_decay = 7e-1\n",
    "r=8 \n",
    "lora_alpha=16\n",
    "lora_dropout=0.1"
   ]
  },
  {
   "cell_type": "code",
   "execution_count": 25,
   "id": "bfb70a35",
   "metadata": {},
   "outputs": [
    {
     "name": "stdout",
     "output_type": "stream",
     "text": [
      "trainable params: 890,118 || all params: 125,540,364 || trainable%: 0.7090293286070128\n"
     ]
    }
   ],
   "source": [
    "peft_config = LoraConfig(task_type=\"SEQ_CLS\", inference_mode=False, r=r, lora_alpha=lora_alpha, lora_dropout=lora_dropout)\n",
    "model = get_peft_model(model, peft_config)\n",
    "model.print_trainable_parameters()"
   ]
  },
  {
   "cell_type": "code",
   "execution_count": 26,
   "id": "ade9fb1d",
   "metadata": {},
   "outputs": [],
   "source": [
    "optimizer = torch.optim.AdamW(model.parameters(), lr=lr, weight_decay=weight_decay)"
   ]
  },
  {
   "cell_type": "code",
   "execution_count": 27,
   "id": "ff421a98-43a2-4e7e-9be3-e1a15e2195f9",
   "metadata": {},
   "outputs": [
    {
     "name": "stdout",
     "output_type": "stream",
     "text": [
      "Current Tesla V100S-PCIE-32GB memory usage: 0.000/31.739 GiB\n"
     ]
    }
   ],
   "source": [
    "check_cuda_memory() # custom function (see utils.py)"
   ]
  },
  {
   "cell_type": "code",
   "execution_count": 28,
   "id": "0e176f9a",
   "metadata": {},
   "outputs": [],
   "source": [
    "device = 'cuda' if torch.cuda.is_available() else 'cpu'\n",
    "model.to(device);"
   ]
  },
  {
   "cell_type": "code",
   "execution_count": 29,
   "id": "605f0af3-954a-441f-8b90-84de7dd0c483",
   "metadata": {},
   "outputs": [
    {
     "name": "stdout",
     "output_type": "stream",
     "text": [
      "Current Tesla V100S-PCIE-32GB memory usage: 0.469/31.739 GiB\n"
     ]
    }
   ],
   "source": [
    "check_cuda_memory()"
   ]
  },
  {
   "cell_type": "markdown",
   "id": "b089c127-b2cd-46ad-908d-94348266415d",
   "metadata": {},
   "source": [
    "## Training"
   ]
  },
  {
   "cell_type": "code",
   "execution_count": 30,
   "id": "56149a4a-6d4d-4b34-a7a7-31e16f3ad98a",
   "metadata": {},
   "outputs": [],
   "source": [
    "num_epochs = 20\n",
    "early_stopping = True"
   ]
  },
  {
   "cell_type": "code",
   "execution_count": 31,
   "id": "b4c16d57-1b24-474e-9d88-8c318480adbc",
   "metadata": {},
   "outputs": [
    {
     "data": {
      "application/vnd.jupyter.widget-view+json": {
       "model_id": "eb74e2b45f0f418386ee4a228454a789",
       "version_major": 2,
       "version_minor": 0
      },
      "text/plain": [
       "Epoch 0: training (TR):   0%|          | 0/1599 [00:00<?, ?it/s]"
      ]
     },
     "metadata": {},
     "output_type": "display_data"
    },
    {
     "data": {
      "application/vnd.jupyter.widget-view+json": {
       "model_id": "bf3fca59922f411081590bff6e49e2b5",
       "version_major": 2,
       "version_minor": 0
      },
      "text/plain": [
       "Epoch 0: inference (VL):   0%|          | 0/94 [00:00<?, ?it/s]"
      ]
     },
     "metadata": {},
     "output_type": "display_data"
    },
    {
     "name": "stdout",
     "output_type": "stream",
     "text": [
      "Epoch 0\n",
      "TR Loss: 1.794893735643474\tVL Loss: 1.7896960605966283\n",
      "TR Accuracy: 0.175\t\tVL Accuracy: 0.185\n",
      "TR F1: 0.121\t\t\tVL F1 (Macro): 0.104\n"
     ]
    },
    {
     "data": {
      "application/vnd.jupyter.widget-view+json": {
       "model_id": "9c04ef1b6f72432db69bd789e8635ea3",
       "version_major": 2,
       "version_minor": 0
      },
      "text/plain": [
       "Epoch 1: training (TR):   0%|          | 0/1599 [00:00<?, ?it/s]"
      ]
     },
     "metadata": {},
     "output_type": "display_data"
    },
    {
     "data": {
      "application/vnd.jupyter.widget-view+json": {
       "model_id": "f4fa44c51e7e4c75b8eff8b654436f65",
       "version_major": 2,
       "version_minor": 0
      },
      "text/plain": [
       "Epoch 1: inference (VL):   0%|          | 0/94 [00:00<?, ?it/s]"
      ]
     },
     "metadata": {},
     "output_type": "display_data"
    },
    {
     "name": "stdout",
     "output_type": "stream",
     "text": [
      "Epoch 1\n",
      "TR Loss: 1.7864355839663106\tVL Loss: 1.7844202911600153\n",
      "TR Accuracy: 0.204\t\tVL Accuracy: 0.24\n",
      "TR F1: 0.186\t\t\tVL F1 (Macro): 0.179\n"
     ]
    },
    {
     "data": {
      "application/vnd.jupyter.widget-view+json": {
       "model_id": "bb73a4ce351645cf9e2f1037ef6529ca",
       "version_major": 2,
       "version_minor": 0
      },
      "text/plain": [
       "Epoch 2: training (TR):   0%|          | 0/1599 [00:00<?, ?it/s]"
      ]
     },
     "metadata": {},
     "output_type": "display_data"
    },
    {
     "data": {
      "application/vnd.jupyter.widget-view+json": {
       "model_id": "1844e14940734e15b64a1c73ba340814",
       "version_major": 2,
       "version_minor": 0
      },
      "text/plain": [
       "Epoch 2: inference (VL):   0%|          | 0/94 [00:00<?, ?it/s]"
      ]
     },
     "metadata": {},
     "output_type": "display_data"
    },
    {
     "name": "stdout",
     "output_type": "stream",
     "text": [
      "Epoch 2\n",
      "TR Loss: 1.7771957488713077\tVL Loss: 1.7729363137103142\n",
      "TR Accuracy: 0.253\t\tVL Accuracy: 0.261\n",
      "TR F1: 0.228\t\t\tVL F1 (Macro): 0.161\n"
     ]
    },
    {
     "data": {
      "application/vnd.jupyter.widget-view+json": {
       "model_id": "67a2355f622b44f88affc98015647585",
       "version_major": 2,
       "version_minor": 0
      },
      "text/plain": [
       "Epoch 3: training (TR):   0%|          | 0/1599 [00:00<?, ?it/s]"
      ]
     },
     "metadata": {},
     "output_type": "display_data"
    },
    {
     "data": {
      "application/vnd.jupyter.widget-view+json": {
       "model_id": "502d16eeaf8b484dbb253392b85edd1f",
       "version_major": 2,
       "version_minor": 0
      },
      "text/plain": [
       "Epoch 3: inference (VL):   0%|          | 0/94 [00:00<?, ?it/s]"
      ]
     },
     "metadata": {},
     "output_type": "display_data"
    },
    {
     "name": "stdout",
     "output_type": "stream",
     "text": [
      "Epoch 3\n",
      "TR Loss: 1.7544432471438152\tVL Loss: 1.7300217925234045\n",
      "TR Accuracy:  0.3\t\tVL Accuracy: 0.29\n",
      "TR F1: 0.263\t\t\tVL F1 (Macro): 0.206\n"
     ]
    },
    {
     "data": {
      "application/vnd.jupyter.widget-view+json": {
       "model_id": "c7a4877ba4ab4678bb5853bfeedcae46",
       "version_major": 2,
       "version_minor": 0
      },
      "text/plain": [
       "Epoch 4: training (TR):   0%|          | 0/1599 [00:00<?, ?it/s]"
      ]
     },
     "metadata": {},
     "output_type": "display_data"
    },
    {
     "data": {
      "application/vnd.jupyter.widget-view+json": {
       "model_id": "a4f5f336363541b09f2ff00d9aa3672c",
       "version_major": 2,
       "version_minor": 0
      },
      "text/plain": [
       "Epoch 4: inference (VL):   0%|          | 0/94 [00:00<?, ?it/s]"
      ]
     },
     "metadata": {},
     "output_type": "display_data"
    },
    {
     "name": "stdout",
     "output_type": "stream",
     "text": [
      "Epoch 4\n",
      "TR Loss: 1.698282225270656\tVL Loss: 1.6124363731830678\n",
      "TR Accuracy: 0.341\t\tVL Accuracy: 0.381\n",
      "TR F1: 0.314\t\t\tVL F1 (Macro): 0.318\n"
     ]
    },
    {
     "data": {
      "application/vnd.jupyter.widget-view+json": {
       "model_id": "3ed88165b425404bb24d27e7a1dcae26",
       "version_major": 2,
       "version_minor": 0
      },
      "text/plain": [
       "Epoch 5: training (TR):   0%|          | 0/1599 [00:00<?, ?it/s]"
      ]
     },
     "metadata": {},
     "output_type": "display_data"
    },
    {
     "data": {
      "application/vnd.jupyter.widget-view+json": {
       "model_id": "e8efd6f729ef41899ae2321982ea2fd8",
       "version_major": 2,
       "version_minor": 0
      },
      "text/plain": [
       "Epoch 5: inference (VL):   0%|          | 0/94 [00:00<?, ?it/s]"
      ]
     },
     "metadata": {},
     "output_type": "display_data"
    },
    {
     "name": "stdout",
     "output_type": "stream",
     "text": [
      "Epoch 5\n",
      "TR Loss: 1.5926204415840832\tVL Loss: 1.4105814410016893\n",
      "TR Accuracy: 0.397\t\tVL Accuracy: 0.461\n",
      "TR F1: 0.373\t\t\tVL F1 (Macro): 0.42\n"
     ]
    },
    {
     "data": {
      "application/vnd.jupyter.widget-view+json": {
       "model_id": "ef038a19ee3340e5992726db58f687fd",
       "version_major": 2,
       "version_minor": 0
      },
      "text/plain": [
       "Epoch 6: training (TR):   0%|          | 0/1599 [00:00<?, ?it/s]"
      ]
     },
     "metadata": {},
     "output_type": "display_data"
    },
    {
     "data": {
      "application/vnd.jupyter.widget-view+json": {
       "model_id": "16e70c9ea7394a4a84d00fcaa5f700cd",
       "version_major": 2,
       "version_minor": 0
      },
      "text/plain": [
       "Epoch 6: inference (VL):   0%|          | 0/94 [00:00<?, ?it/s]"
      ]
     },
     "metadata": {},
     "output_type": "display_data"
    },
    {
     "name": "stdout",
     "output_type": "stream",
     "text": [
      "Epoch 6\n",
      "TR Loss: 1.4237100363075919\tVL Loss: 1.2962256793646103\n",
      "TR Accuracy: 0.47\t\tVL Accuracy: 0.495\n",
      "TR F1: 0.448\t\t\tVL F1 (Macro): 0.459\n"
     ]
    },
    {
     "data": {
      "application/vnd.jupyter.widget-view+json": {
       "model_id": "ba992c8c8b8745f4bcb1a1a3e131eb30",
       "version_major": 2,
       "version_minor": 0
      },
      "text/plain": [
       "Epoch 7: training (TR):   0%|          | 0/1599 [00:00<?, ?it/s]"
      ]
     },
     "metadata": {},
     "output_type": "display_data"
    },
    {
     "data": {
      "application/vnd.jupyter.widget-view+json": {
       "model_id": "f21fd7b143b74664b3ed719cdd8f5ffe",
       "version_major": 2,
       "version_minor": 0
      },
      "text/plain": [
       "Epoch 7: inference (VL):   0%|          | 0/94 [00:00<?, ?it/s]"
      ]
     },
     "metadata": {},
     "output_type": "display_data"
    },
    {
     "name": "stdout",
     "output_type": "stream",
     "text": [
      "Epoch 7\n",
      "TR Loss: 1.309344333585461\tVL Loss: 1.2570366279241887\n",
      "TR Accuracy: 0.518\t\tVL Accuracy: 0.514\n",
      "TR F1: 0.498\t\t\tVL F1 (Macro): 0.488\n"
     ]
    },
    {
     "data": {
      "application/vnd.jupyter.widget-view+json": {
       "model_id": "3b2158392cd3441e8f133ee0e1f18928",
       "version_major": 2,
       "version_minor": 0
      },
      "text/plain": [
       "Epoch 8: training (TR):   0%|          | 0/1599 [00:00<?, ?it/s]"
      ]
     },
     "metadata": {},
     "output_type": "display_data"
    },
    {
     "data": {
      "application/vnd.jupyter.widget-view+json": {
       "model_id": "8f7b8e8b68024f35bcff680471b8badf",
       "version_major": 2,
       "version_minor": 0
      },
      "text/plain": [
       "Epoch 8: inference (VL):   0%|          | 0/94 [00:00<?, ?it/s]"
      ]
     },
     "metadata": {},
     "output_type": "display_data"
    },
    {
     "name": "stdout",
     "output_type": "stream",
     "text": [
      "Epoch 8\n",
      "TR Loss: 1.2199022265580983\tVL Loss: 1.2323611137714792\n",
      "TR Accuracy: 0.558\t\tVL Accuracy: 0.516\n",
      "TR F1: 0.544\t\t\tVL F1 (Macro): 0.491\n"
     ]
    },
    {
     "data": {
      "application/vnd.jupyter.widget-view+json": {
       "model_id": "600d0f49af8e45ea8f66d973bddd292d",
       "version_major": 2,
       "version_minor": 0
      },
      "text/plain": [
       "Epoch 9: training (TR):   0%|          | 0/1599 [00:00<?, ?it/s]"
      ]
     },
     "metadata": {},
     "output_type": "display_data"
    },
    {
     "data": {
      "application/vnd.jupyter.widget-view+json": {
       "model_id": "05e7a5676a914738a7ab675cd0787c5f",
       "version_major": 2,
       "version_minor": 0
      },
      "text/plain": [
       "Epoch 9: inference (VL):   0%|          | 0/94 [00:00<?, ?it/s]"
      ]
     },
     "metadata": {},
     "output_type": "display_data"
    },
    {
     "name": "stdout",
     "output_type": "stream",
     "text": [
      "Epoch 9\n",
      "TR Loss: 1.1441576909541786\tVL Loss: 1.2245865191550964\n",
      "TR Accuracy: 0.59\t\tVL Accuracy: 0.512\n",
      "TR F1: 0.58\t\t\tVL F1 (Macro): 0.489\n"
     ]
    },
    {
     "data": {
      "application/vnd.jupyter.widget-view+json": {
       "model_id": "0584ebe990ec403c844f08e7fbe6f70d",
       "version_major": 2,
       "version_minor": 0
      },
      "text/plain": [
       "Epoch 10: training (TR):   0%|          | 0/1599 [00:00<?, ?it/s]"
      ]
     },
     "metadata": {},
     "output_type": "display_data"
    },
    {
     "data": {
      "application/vnd.jupyter.widget-view+json": {
       "model_id": "ea4fb0aa1b3f4bde81ff194b1d5477b7",
       "version_major": 2,
       "version_minor": 0
      },
      "text/plain": [
       "Epoch 10: inference (VL):   0%|          | 0/94 [00:00<?, ?it/s]"
      ]
     },
     "metadata": {},
     "output_type": "display_data"
    },
    {
     "name": "stdout",
     "output_type": "stream",
     "text": [
      "Epoch 10\n",
      "TR Loss: 1.0802924600223067\tVL Loss: 1.2272577025788896\n",
      "TR Accuracy: 0.612\t\tVL Accuracy: 0.503\n",
      "TR F1: 0.604\t\t\tVL F1 (Macro): 0.481\n"
     ]
    },
    {
     "data": {
      "application/vnd.jupyter.widget-view+json": {
       "model_id": "6ae8948f0b114eb89f026432807a819b",
       "version_major": 2,
       "version_minor": 0
      },
      "text/plain": [
       "Epoch 11: training (TR):   0%|          | 0/1599 [00:00<?, ?it/s]"
      ]
     },
     "metadata": {},
     "output_type": "display_data"
    },
    {
     "data": {
      "application/vnd.jupyter.widget-view+json": {
       "model_id": "c9ef09b8a4f14fdab4126ddbec02dc4e",
       "version_major": 2,
       "version_minor": 0
      },
      "text/plain": [
       "Epoch 11: inference (VL):   0%|          | 0/94 [00:00<?, ?it/s]"
      ]
     },
     "metadata": {},
     "output_type": "display_data"
    },
    {
     "name": "stdout",
     "output_type": "stream",
     "text": [
      "Epoch 11\n",
      "TR Loss: 1.0190865208462971\tVL Loss: 1.2273000377289793\n",
      "TR Accuracy: 0.638\t\tVL Accuracy: 0.498\n",
      "TR F1: 0.631\t\t\tVL F1 (Macro): 0.478\n"
     ]
    },
    {
     "data": {
      "application/vnd.jupyter.widget-view+json": {
       "model_id": "893072c7f5644761b51d630c21b54822",
       "version_major": 2,
       "version_minor": 0
      },
      "text/plain": [
       "Epoch 12: training (TR):   0%|          | 0/1599 [00:00<?, ?it/s]"
      ]
     },
     "metadata": {},
     "output_type": "display_data"
    },
    {
     "data": {
      "application/vnd.jupyter.widget-view+json": {
       "model_id": "d4c9e99caf1a4b01a3c794510b2cc4b0",
       "version_major": 2,
       "version_minor": 0
      },
      "text/plain": [
       "Epoch 12: inference (VL):   0%|          | 0/94 [00:00<?, ?it/s]"
      ]
     },
     "metadata": {},
     "output_type": "display_data"
    },
    {
     "name": "stdout",
     "output_type": "stream",
     "text": [
      "Epoch 12\n",
      "TR Loss: 0.9686798923383884\tVL Loss: 1.253386453745213\n",
      "TR Accuracy: 0.657\t\tVL Accuracy: 0.485\n",
      "TR F1: 0.651\t\t\tVL F1 (Macro): 0.467\n"
     ]
    },
    {
     "data": {
      "application/vnd.jupyter.widget-view+json": {
       "model_id": "f6fa17bc713142dba03302602013de71",
       "version_major": 2,
       "version_minor": 0
      },
      "text/plain": [
       "Epoch 13: training (TR):   0%|          | 0/1599 [00:00<?, ?it/s]"
      ]
     },
     "metadata": {},
     "output_type": "display_data"
    },
    {
     "data": {
      "application/vnd.jupyter.widget-view+json": {
       "model_id": "aaf15a7fdaff421d96ba25d5a2d15423",
       "version_major": 2,
       "version_minor": 0
      },
      "text/plain": [
       "Epoch 13: inference (VL):   0%|          | 0/94 [00:00<?, ?it/s]"
      ]
     },
     "metadata": {},
     "output_type": "display_data"
    },
    {
     "name": "stdout",
     "output_type": "stream",
     "text": [
      "Epoch 13\n",
      "TR Loss: 0.9238814336944924\tVL Loss: 1.251619834849175\n",
      "TR Accuracy: 0.673\t\tVL Accuracy: 0.493\n",
      "TR F1: 0.668\t\t\tVL F1 (Macro): 0.477\n",
      "Training early stopped at epoch 13.\n"
     ]
    }
   ],
   "source": [
    "early_stopper = EarlyStopper(patience=2, delta=1e-2) # custom object (see utils.py)\n",
    "\n",
    "train_losses = list()\n",
    "val_losses = list()\n",
    "train_accs = list()\n",
    "val_accs = list()\n",
    "train_f1s = list()\n",
    "val_f1s = list()\n",
    "    \n",
    "# training loop\n",
    "\n",
    "for epoch in range(num_epochs):\n",
    "    model.train()\n",
    "    train_loss = .0\n",
    "    y_train = list()\n",
    "    y_pred = list()\n",
    "    for batch in tqdm(train, desc=f'Epoch {epoch}: training (TR)'):\n",
    "        batch = {k: v.to(device) for k, v in batch.items()} # moving batches to gpu\n",
    "        output = model(input_ids=batch['input_ids'], attention_mask=batch['attention_mask'])\n",
    "        loss = cross_entropy(output.logits, batch['labels'])\n",
    "        train_loss += loss.detach().cpu().item() # updating loss\n",
    "        predictions = torch.argmax(output.logits, -1).detach().cpu()\n",
    "        y_pred.extend(predictions) # updating predictions\n",
    "        y_train.extend([item.detach().cpu().item() for item in batch['labels']]) # updating true labels\n",
    "        loss.backward()\n",
    "        optimizer.step()\n",
    "        optimizer.zero_grad(set_to_none=True) # set_to_none=True reduces memory footprint\n",
    "        \n",
    "    train_epoch_loss = train_loss / len(train) # epoch loss as mean loss over iterations (batches)\n",
    "    train_acc = round(accuracy_score(y_train, y_pred), 3)\n",
    "    train_f1 = round(f1_score(y_train, y_pred, average='macro'), 3)\n",
    "    \n",
    "    model.eval()\n",
    "    val_loss = .0\n",
    "    y_val = list()\n",
    "    y_pred = list()\n",
    "    for batch in tqdm(val, desc=f'Epoch {epoch}: inference (VL)'):\n",
    "        batch = {k: v.to(device) for k, v in batch.items()}\n",
    "        with torch.no_grad():\n",
    "            output = model(input_ids=batch['input_ids'], attention_mask=batch['attention_mask']) \n",
    "        loss = cross_entropy(output.logits, batch['labels'])\n",
    "        val_loss += loss.detach().cpu().item()\n",
    "        predictions = torch.argmax(output.logits, -1).cpu()\n",
    "        y_pred.extend(predictions)\n",
    "        y_val.extend([item.detach().cpu().item() for item in batch['labels']])\n",
    "        \n",
    "    val_epoch_loss = val_loss / len(val)\n",
    "    val_acc = round(accuracy_score(y_val, y_pred), 3)\n",
    "    val_f1 = round(f1_score(y_val, y_pred, average='macro'), 3)\n",
    "\n",
    "    train_losses.append(train_epoch_loss)\n",
    "    val_losses.append(val_epoch_loss)\n",
    "    train_accs.append(train_acc)\n",
    "    val_accs.append(val_acc)\n",
    "    train_f1s.append(train_f1)\n",
    "    val_f1s.append(val_f1)\n",
    "\n",
    "    print(f'Epoch {epoch}')\n",
    "    print(f'TR Loss: {train_epoch_loss:12}\\tVL Loss: {val_epoch_loss:12}')  # logging\n",
    "    print(f'TR Accuracy: {train_acc:4}\\t\\tVL Accuracy: {val_acc:4}')\n",
    "    print(f'TR F1: {train_f1:4}\\t\\t\\tVL F1 (Macro): {val_f1:4}')\n",
    "    \n",
    "    if early_stopping:\n",
    "        counter, stop = early_stopper(val_epoch_loss)\n",
    "        if stop:\n",
    "            torch.save(model.state_dict(), f'roberta_B_epoch_{epoch}.pth')\n",
    "            print(f'Training early stopped at epoch {epoch}.')\n",
    "            break\n",
    "        if counter == 0:\n",
    "            torch.save(model.state_dict(), f'roberta_B_epoch_{epoch}.pth') # saving model at optimal values of VL loss"
   ]
  },
  {
   "cell_type": "code",
   "execution_count": 32,
   "id": "0b3c1d44-c348-402a-a506-5952fe20d178",
   "metadata": {},
   "outputs": [
    {
     "name": "stderr",
     "output_type": "stream",
     "text": [
      "/tmp/ipykernel_311524/3699380719.py:1: UserWarning: cmr10 font should ideally be used with mathtext, set axes.formatter.use_mathtext to True\n",
      "  plt.plot(train_losses, label='TR')\n"
     ]
    },
    {
     "data": {
      "image/png": "[encoded data removed]",
      "text/plain": [
       "<Figure size 640x480 with 1 Axes>"
      ]
     },
     "metadata": {},
     "output_type": "display_data"
    }
   ],
   "source": [
    "plt.plot(train_losses, label='TR')\n",
    "plt.plot(val_losses, label='VL')\n",
    "plt.xlabel('Epoch')\n",
    "plt.ylabel('Loss')\n",
    "plt.axvline(x=9, color='red', linestyle='--', label='Model')\n",
    "plt.xticks([0, 1, 2, 3, 4, 5, 6, 7, 8, 9, 10, 11, 12, 13], [1, 2, 3, 4, 5, 6, 7, 8, 9, 10, 11, 12, 13, 14]) \n",
    "plt.legend()\n",
    "plt.savefig('learning_curves_B_roberta.png', bbox_inches=\"tight\")\n",
    "plt.show()"
   ]
  },
  {
   "cell_type": "code",
   "execution_count": 33,
   "id": "f062d6d9-1d6b-4d69-bf42-54998c702a6b",
   "metadata": {},
   "outputs": [
    {
     "name": "stderr",
     "output_type": "stream",
     "text": [
      "/tmp/ipykernel_311524/1242134445.py:1: UserWarning: cmr10 font should ideally be used with mathtext, set axes.formatter.use_mathtext to True\n",
      "  plt.plot(train_accs, label='TR')\n"
     ]
    },
    {
     "data": {
      "image/png": "[encoded data removed]",
      "text/plain": [
       "<Figure size 640x480 with 1 Axes>"
      ]
     },
     "metadata": {},
     "output_type": "display_data"
    }
   ],
   "source": [
    "plt.plot(train_accs, label='TR')\n",
    "plt.plot(val_accs, label='VL')\n",
    "plt.xlabel('Epoch')\n",
    "plt.ylabel('Accuracy')\n",
    "plt.axvline(x=9, color='red', linestyle='--', label='Model')\n",
    "plt.xticks([0, 1, 2, 3, 4, 5, 6, 7, 8, 9, 10, 11, 12, 13], [1, 2, 3, 4, 5, 6, 7, 8, 9, 10, 11, 12, 13, 14])\n",
    "plt.legend()\n",
    "plt.savefig('accs_B_roberta.png', bbox_inches=\"tight\")\n",
    "plt.show()"
   ]
  },
  {
   "cell_type": "code",
   "execution_count": 34,
   "id": "07c1dab4-f64b-469d-bd9a-fd18ea52a253",
   "metadata": {},
   "outputs": [
    {
     "name": "stderr",
     "output_type": "stream",
     "text": [
      "/tmp/ipykernel_311524/331603100.py:1: UserWarning: cmr10 font should ideally be used with mathtext, set axes.formatter.use_mathtext to True\n",
      "  plt.plot(train_f1s, label='TR')\n"
     ]
    },
    {
     "data": {
      "image/png": "[encoded data removed]",
      "text/plain": [
       "<Figure size 640x480 with 1 Axes>"
      ]
     },
     "metadata": {},
     "output_type": "display_data"
    }
   ],
   "source": [
    "plt.plot(train_f1s, label='TR')\n",
    "plt.plot(val_f1s, label='VL')\n",
    "plt.xlabel('Epoch')\n",
    "plt.ylabel('F1 (Macro)')\n",
    "plt.axvline(x=9, color='red', linestyle='--', label='Model')\n",
    "plt.xticks([0, 1, 2, 3, 4, 5, 6, 7, 8, 9, 10, 11, 12, 13], [1, 2, 3, 4, 5, 6, 7, 8, 9, 10, 11, 12, 13, 14])\n",
    "plt.legend()\n",
    "plt.savefig('f1s_B_roberta.png', bbox_inches=\"tight\")\n",
    "plt.show()"
   ]
  },
  {
   "cell_type": "markdown",
   "id": "bf6db926-b4ab-4cb3-a909-d6cf9010ef27",
   "metadata": {},
   "source": [
    "# Testing"
   ]
  },
  {
   "cell_type": "code",
   "execution_count": 35,
   "id": "cd6b3dc7-a24b-4306-84b5-f603445b1c17",
   "metadata": {},
   "outputs": [],
   "source": [
    "model_tokenizer_path = 'FacebookAI/roberta-base'"
   ]
  },
  {
   "cell_type": "code",
   "execution_count": 36,
   "id": "f1b52ca5-a81f-4849-9751-0909f8352c7c",
   "metadata": {},
   "outputs": [
    {
     "name": "stderr",
     "output_type": "stream",
     "text": [
      "Some weights of RobertaForSequenceClassification were not initialized from the model checkpoint at FacebookAI/roberta-base and are newly initialized: ['classifier.out_proj.weight', 'classifier.dense.bias', 'classifier.out_proj.bias', 'classifier.dense.weight']\n",
      "You should probably TRAIN this model on a down-stream task to be able to use it for predictions and inference.\n"
     ]
    }
   ],
   "source": [
    "model = AutoModelForSequenceClassification.from_pretrained(model_tokenizer_path, num_labels=6)"
   ]
  },
  {
   "cell_type": "code",
   "execution_count": 37,
   "id": "f2f90fbe-6088-440e-ae07-896d0bafd7e3",
   "metadata": {},
   "outputs": [
    {
     "data": {
      "text/plain": [
       "<All keys matched successfully>"
      ]
     },
     "execution_count": 37,
     "metadata": {},
     "output_type": "execute_result"
    }
   ],
   "source": [
    "trained_parameters = 'roberta_B_epoch_9.pth' # file pth with model at epoch 9\n",
    "peft_config = LoraConfig(task_type=\"SEQ_CLS\", inference_mode=True, r=8, lora_alpha=16, lora_dropout=0.1)\n",
    "model = get_peft_model(model, peft_config)\n",
    "model.load_state_dict(torch.load(trained_parameters)) "
   ]
  },
  {
   "cell_type": "code",
   "execution_count": 38,
   "id": "d4f584ab-7743-4ce7-99f5-8656b5e16486",
   "metadata": {},
   "outputs": [
    {
     "name": "stdout",
     "output_type": "stream",
     "text": [
      "Current Tesla V100S-PCIE-32GB memory usage: 0.491/31.739 GiB\n"
     ]
    }
   ],
   "source": [
    "check_cuda_memory() "
   ]
  },
  {
   "cell_type": "code",
   "execution_count": 39,
   "id": "35d26aaf-ad50-46ab-b2c5-f397a1f070ce",
   "metadata": {},
   "outputs": [],
   "source": [
    "device = 'cuda' if torch.cuda.is_available() else 'cpu'\n",
    "model.to(device);"
   ]
  },
  {
   "cell_type": "code",
   "execution_count": 40,
   "id": "6c27d815-dac4-4b45-a044-5c6d6f021f1e",
   "metadata": {},
   "outputs": [
    {
     "name": "stdout",
     "output_type": "stream",
     "text": [
      "Current Tesla V100S-PCIE-32GB memory usage: 0.981/31.739 GiB\n"
     ]
    }
   ],
   "source": [
    "check_cuda_memory()"
   ]
  },
  {
   "cell_type": "code",
   "execution_count": 41,
   "id": "650cf3b2-0a80-48e6-8a64-453d3916d971",
   "metadata": {},
   "outputs": [
    {
     "data": {
      "application/vnd.jupyter.widget-view+json": {
       "model_id": "18dcf6f6e92f4f42bd106fa9acea343e",
       "version_major": 2,
       "version_minor": 0
      },
      "text/plain": [
       "  0%|          | 0/222 [00:00<?, ?it/s]"
      ]
     },
     "metadata": {},
     "output_type": "display_data"
    }
   ],
   "source": [
    "y_pred = list()\n",
    "y_test = list()\n",
    "for batch in tqdm(test):\n",
    "        batch = {k: v.to(device) for k, v in batch.items()}\n",
    "        with torch.no_grad():\n",
    "            output = model(input_ids=batch['input_ids'], attention_mask=batch['attention_mask'])\n",
    "        predictions = torch.argmax(output.logits, -1).cpu()\n",
    "        y_pred.extend(predictions)\n",
    "        y_test.extend([item.detach().cpu().item() for item in batch['labels']]) # updating true labels"
   ]
  },
  {
   "cell_type": "code",
   "execution_count": 42,
   "id": "e6bd77cd-d4b7-44c0-bbe4-94b28f942542",
   "metadata": {},
   "outputs": [
    {
     "name": "stdout",
     "output_type": "stream",
     "text": [
      "              precision    recall  f1-score   support\n",
      "\n",
      "           0      0.862     0.642     0.736      1198\n",
      "           1      0.553     0.637     0.592      1148\n",
      "           2      0.513     0.682     0.586      1155\n",
      "           3      0.633     0.235     0.342      1189\n",
      "           4      0.840     0.638     0.725      1242\n",
      "           5      0.512     0.861     0.642      1171\n",
      "\n",
      "    accuracy                          0.615      7103\n",
      "   macro avg      0.652     0.616     0.604      7103\n",
      "weighted avg      0.655     0.615     0.605      7103\n",
      "\n"
     ]
    }
   ],
   "source": [
    "print(classification_report(y_test, y_pred, digits=3))"
   ]
  },
  {
   "cell_type": "code",
   "execution_count": 43,
   "id": "55c59c44-ab8c-45ef-abbd-e24265c5dc58",
   "metadata": {},
   "outputs": [
    {
     "name": "stderr",
     "output_type": "stream",
     "text": [
      "/home/g.fidone/hlt/lib/python3.10/site-packages/seaborn/matrix.py:456: UserWarning: cmr10 font should ideally be used with mathtext, set axes.formatter.use_mathtext to True\n",
      "  ax = plt.gca()\n",
      "/home/g.fidone/hlt/lib/python3.10/site-packages/seaborn/matrix.py:316: UserWarning: cmr10 font should ideally be used with mathtext, set axes.formatter.use_mathtext to True\n",
      "  cb = ax.figure.colorbar(mesh, cax, ax, **self.cbar_kws)\n"
     ]
    },
    {
     "data": {
      "image/png": "[encoded data removed]",
      "text/plain": [
       "<Figure size 600x400 with 2 Axes>"
      ]
     },
     "metadata": {},
     "output_type": "display_data"
    }
   ],
   "source": [
    "cm = confusion_matrix(y_test, y_pred)\n",
    "plt.figure(figsize=(6, 4))\n",
    "sns.heatmap(cm, annot=True, fmt='d', cmap='Blues', xticklabels=['Human', 'ChatGPT', 'Cohere', 'Davinci', 'Bloomz', 'Dolly'], yticklabels=['Human', 'ChatGPT', 'Cohere', 'Davinci', 'Bloomz', 'Dolly'])\n",
    "plt.xlabel('Predicted')\n",
    "plt.ylabel('True')\n",
    "plt.savefig('conf_B_roberta.png', bbox_inches=\"tight\")\n",
    "plt.show()"
   ]
  }
 ],
 "metadata": {
  "kernelspec": {
   "display_name": "Python 3 (ipykernel)",
   "language": "python",
   "name": "python3"
  },
  "language_info": {
   "codemirror_mode": {
    "name": "ipython",
    "version": 3
   },
   "file_extension": ".py",
   "mimetype": "text/x-python",
   "name": "python",
   "nbconvert_exporter": "python",
   "pygments_lexer": "ipython3",
   "version": "3.10.12"
  }
 },
 "nbformat": 4,
 "nbformat_minor": 5
}
