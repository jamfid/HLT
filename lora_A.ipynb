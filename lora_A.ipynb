{
 "cells": [
  {
   "cell_type": "markdown",
   "id": "9278a454-9927-45cc-bc6e-9b82cfaf7bcb",
   "metadata": {},
   "source": [
    "# Imports"
   ]
  },
  {
   "cell_type": "code",
   "execution_count": 1,
   "id": "6ce0e757-6250-456a-a3c7-4f15e5c757a3",
   "metadata": {},
   "outputs": [
    {
     "name": "stderr",
     "output_type": "stream",
     "text": [
      "/home/g.fidone/hlt/lib/python3.10/site-packages/transformers/utils/generic.py:441: UserWarning: torch.utils._pytree._register_pytree_node is deprecated. Please use torch.utils._pytree.register_pytree_node instead.\n",
      "  _torch_pytree._register_pytree_node(\n",
      "/home/g.fidone/hlt/lib/python3.10/site-packages/torch/cuda/__init__.py:628: UserWarning: Can't initialize NVML\n",
      "  warnings.warn(\"Can't initialize NVML\")\n",
      "/home/g.fidone/hlt/lib/python3.10/site-packages/transformers/utils/generic.py:309: UserWarning: torch.utils._pytree._register_pytree_node is deprecated. Please use torch.utils._pytree.register_pytree_node instead.\n",
      "  _torch_pytree._register_pytree_node(\n"
     ]
    }
   ],
   "source": [
    "# general\n",
    "import torch\n",
    "from tqdm.notebook import tqdm\n",
    "\n",
    "# data\n",
    "from torch.utils.data import DataLoader\n",
    "from datasets import load_dataset\n",
    "\n",
    "# visualization\n",
    "import matplotlib.pyplot as plt\n",
    "import seaborn as sns\n",
    "\n",
    "\n",
    "# model\n",
    "from transformers import AutoTokenizer, AutoModelForSequenceClassification, default_data_collator\n",
    "from peft import LoraConfig, get_peft_model\n",
    "from torch.nn.functional import cross_entropy\n",
    "from sklearn.metrics import accuracy_score, f1_score, classification_report, confusion_matrix\n",
    "\n",
    "# custom\n",
    "from utils import * # custom py file"
   ]
  },
  {
   "cell_type": "code",
   "execution_count": 2,
   "id": "530e1977-10e0-440b-acce-95288245e9af",
   "metadata": {},
   "outputs": [],
   "source": [
    "# sns style\n",
    "sns.set_theme(style=\"whitegrid\", font='cmr10', font_scale=1.5)"
   ]
  },
  {
   "cell_type": "markdown",
   "id": "07d489e1-5837-46bc-930c-fef7b7e071ec",
   "metadata": {},
   "source": [
    "# Reproducibility"
   ]
  },
  {
   "cell_type": "code",
   "execution_count": 3,
   "id": "8622d036-4231-42db-a500-dada23a8b1b0",
   "metadata": {},
   "outputs": [],
   "source": [
    "SEED = 42\n",
    "determinism = True\n",
    "if determinism:\n",
    "    set_deterministic_mode(SEED) # custom function (see utils.py)"
   ]
  },
  {
   "cell_type": "markdown",
   "id": "81d6db34-f10b-4a02-a0ff-a650f9cfc773",
   "metadata": {},
   "source": [
    "# Data"
   ]
  },
  {
   "cell_type": "code",
   "execution_count": 4,
   "id": "dc5ec813-2789-4090-8a26-53ff6bdc8b33",
   "metadata": {},
   "outputs": [],
   "source": [
    "train = load_dataset('json', data_files='subtaskA_train_sample.jsonl', split='train')\n",
    "val = load_dataset('json', data_files='subtaskA_dev_monolingual.jsonl', split='train')\n",
    "test = load_dataset('json', data_files='subtaskA_test.jsonl', split='train')"
   ]
  },
  {
   "cell_type": "code",
   "execution_count": 5,
   "id": "54c16423-1876-4d58-ad00-9e3e796f404a",
   "metadata": {},
   "outputs": [
    {
     "name": "stdout",
     "output_type": "stream",
     "text": [
      "(53890, 5) (5000, 5) (11976, 5)\n"
     ]
    }
   ],
   "source": [
    "print(train.shape, val.shape, test.shape)"
   ]
  },
  {
   "cell_type": "code",
   "execution_count": 6,
   "id": "ce11ba15-8294-489c-a9ff-02f6dca70f13",
   "metadata": {},
   "outputs": [
    {
     "data": {
      "text/plain": [
       "Dataset({\n",
       "    features: ['text', 'label', 'model', 'source', 'id'],\n",
       "    num_rows: 53890\n",
       "})"
      ]
     },
     "execution_count": 6,
     "metadata": {},
     "output_type": "execute_result"
    }
   ],
   "source": [
    "train"
   ]
  },
  {
   "cell_type": "code",
   "execution_count": 7,
   "id": "7d226764-43d5-4441-ba15-f5e28fc4e25b",
   "metadata": {},
   "outputs": [
    {
     "data": {
      "text/plain": [
       "Dataset({\n",
       "    features: ['text', 'label', 'model', 'source', 'id'],\n",
       "    num_rows: 5000\n",
       "})"
      ]
     },
     "execution_count": 7,
     "metadata": {},
     "output_type": "execute_result"
    }
   ],
   "source": [
    "val"
   ]
  },
  {
   "cell_type": "code",
   "execution_count": 8,
   "id": "e06c53aa-fd09-46b5-8663-6036a5b4e5e0",
   "metadata": {},
   "outputs": [
    {
     "data": {
      "text/plain": [
       "Dataset({\n",
       "    features: ['text', 'label', 'model', 'source', 'id'],\n",
       "    num_rows: 11976\n",
       "})"
      ]
     },
     "execution_count": 8,
     "metadata": {},
     "output_type": "execute_result"
    }
   ],
   "source": [
    "test"
   ]
  },
  {
   "cell_type": "code",
   "execution_count": 9,
   "id": "f1b6a711-6f9e-48ea-ac4d-2a56a9fa6f24",
   "metadata": {},
   "outputs": [],
   "source": [
    "model_tokenizer_path = 'FacebookAI/roberta-base' "
   ]
  },
  {
   "cell_type": "code",
   "execution_count": 10,
   "id": "c7ef72c8-5959-4703-938f-cdd13f9b2e01",
   "metadata": {},
   "outputs": [],
   "source": [
    "tokenizer = AutoTokenizer.from_pretrained(model_tokenizer_path) # initializing tokenizer\n",
    "if tokenizer.pad_token_id is None:\n",
    "    tokenizer.pad_token_id = tokenizer.eos_token_id"
   ]
  },
  {
   "cell_type": "code",
   "execution_count": 11,
   "id": "92a05a9d-cd0f-4953-b3e1-3bfa5040dbc0",
   "metadata": {},
   "outputs": [],
   "source": [
    "max_length = 143"
   ]
  },
  {
   "cell_type": "code",
   "execution_count": 12,
   "id": "34fa86d5-5afb-4bff-9bf6-893e403fd286",
   "metadata": {},
   "outputs": [],
   "source": [
    "train = train.map(\n",
    "          lambda text: tokenizer(text['text'], \n",
    "                                 truncation=True,\n",
    "                                 max_length=max_length, \n",
    "                                 padding=True,\n",
    "                                 return_tensors='pt'), \n",
    "          batched=True,\n",
    "          remove_columns=['id', 'text', 'source', 'model'],\n",
    "          desc=\"Running tokenizer on dataset\")"
   ]
  },
  {
   "cell_type": "code",
   "execution_count": 13,
   "id": "432221f2-15c9-43f7-b212-04de5eba5f2f",
   "metadata": {},
   "outputs": [],
   "source": [
    "val = val.map(\n",
    "          lambda text: tokenizer(text['text'], \n",
    "                                 truncation=True,\n",
    "                                 max_length=max_length, \n",
    "                                 padding=True,\n",
    "                                 return_tensors='pt'), \n",
    "          batched=True,\n",
    "          remove_columns=['id', 'text', 'source', 'model'],\n",
    "          desc=\"Running tokenizer on dataset\")"
   ]
  },
  {
   "cell_type": "code",
   "execution_count": 14,
   "id": "b0de9cbe-10c6-4263-8e10-9febfcea5c2f",
   "metadata": {},
   "outputs": [],
   "source": [
    "test = test.map(\n",
    "          lambda text: tokenizer(text['text'], \n",
    "                                 truncation=True,\n",
    "                                 max_length=max_length, \n",
    "                                 padding=True,\n",
    "                                 return_tensors='pt'), \n",
    "          batched=True,\n",
    "          remove_columns=['id', 'text', 'source', 'model'],\n",
    "          desc=\"Running tokenizer on dataset\")"
   ]
  },
  {
   "cell_type": "code",
   "execution_count": 15,
   "id": "42aa5c41-f23f-46c0-9c34-0e21dbbdb6d0",
   "metadata": {},
   "outputs": [
    {
     "data": {
      "text/plain": [
       "Dataset({\n",
       "    features: ['label', 'input_ids', 'attention_mask'],\n",
       "    num_rows: 53890\n",
       "})"
      ]
     },
     "execution_count": 15,
     "metadata": {},
     "output_type": "execute_result"
    }
   ],
   "source": [
    "train"
   ]
  },
  {
   "cell_type": "code",
   "execution_count": 16,
   "id": "911e3850-f7da-4a2f-8ffd-b2bbbb28cd89",
   "metadata": {},
   "outputs": [
    {
     "data": {
      "text/plain": [
       "Dataset({\n",
       "    features: ['label', 'input_ids', 'attention_mask'],\n",
       "    num_rows: 5000\n",
       "})"
      ]
     },
     "execution_count": 16,
     "metadata": {},
     "output_type": "execute_result"
    }
   ],
   "source": [
    "val"
   ]
  },
  {
   "cell_type": "code",
   "execution_count": 17,
   "id": "fd5c101a-3a49-49e7-8cc7-3e0e676c3069",
   "metadata": {},
   "outputs": [
    {
     "data": {
      "text/plain": [
       "Dataset({\n",
       "    features: ['label', 'input_ids', 'attention_mask'],\n",
       "    num_rows: 11976\n",
       "})"
      ]
     },
     "execution_count": 17,
     "metadata": {},
     "output_type": "execute_result"
    }
   ],
   "source": [
    "test"
   ]
  },
  {
   "cell_type": "code",
   "execution_count": 18,
   "id": "529cf392",
   "metadata": {},
   "outputs": [],
   "source": [
    "batch_size = 32"
   ]
  },
  {
   "cell_type": "code",
   "execution_count": 19,
   "id": "79a1a92e-ba32-4b0d-bf83-7194688da489",
   "metadata": {},
   "outputs": [
    {
     "data": {
      "text/plain": [
       "<torch._C.Generator at 0x7fdf000cba90>"
      ]
     },
     "execution_count": 19,
     "metadata": {},
     "output_type": "execute_result"
    }
   ],
   "source": [
    "def seed_worker(worker_id): # defining worker_init_fn for dataloader\n",
    "    worker_seed = torch.initial_seed() % 2**32\n",
    "    numpy.random.seed(worker_seed)\n",
    "    random.seed(worker_seed)\n",
    "\n",
    "g = torch.Generator()\n",
    "g.manual_seed(SEED)"
   ]
  },
  {
   "cell_type": "code",
   "execution_count": 20,
   "id": "fd7bfba1",
   "metadata": {},
   "outputs": [],
   "source": [
    "train = DataLoader(\n",
    "    train, \n",
    "    shuffle=True,\n",
    "    collate_fn=default_data_collator, \n",
    "    batch_size=batch_size, \n",
    "    pin_memory=True,\n",
    "    worker_init_fn=seed_worker,\n",
    "    generator=g\n",
    ")"
   ]
  },
  {
   "cell_type": "code",
   "execution_count": 21,
   "id": "1ef1d9df",
   "metadata": {},
   "outputs": [],
   "source": [
    "val = DataLoader(\n",
    "    val, \n",
    "    shuffle=False,\n",
    "    collate_fn=default_data_collator, \n",
    "    batch_size=batch_size, \n",
    "    pin_memory=True\n",
    ")"
   ]
  },
  {
   "cell_type": "code",
   "execution_count": 22,
   "id": "0f9b9d07",
   "metadata": {},
   "outputs": [],
   "source": [
    "test = DataLoader(\n",
    "    test, \n",
    "    shuffle=False,\n",
    "    collate_fn=default_data_collator, \n",
    "    batch_size=batch_size, \n",
    "    pin_memory=True\n",
    ")"
   ]
  },
  {
   "cell_type": "markdown",
   "id": "773c50c5-a7c0-4b06-bf5e-196d24e91910",
   "metadata": {},
   "source": [
    "# Model"
   ]
  },
  {
   "cell_type": "code",
   "execution_count": 23,
   "id": "c83aa7fa-54d1-4548-8de2-085421632cbb",
   "metadata": {},
   "outputs": [
    {
     "name": "stderr",
     "output_type": "stream",
     "text": [
      "Some weights of RobertaForSequenceClassification were not initialized from the model checkpoint at FacebookAI/roberta-base and are newly initialized: ['classifier.out_proj.weight', 'classifier.dense.bias', 'classifier.dense.weight', 'classifier.out_proj.bias']\n",
      "You should probably TRAIN this model on a down-stream task to be able to use it for predictions and inference.\n"
     ]
    }
   ],
   "source": [
    "model = AutoModelForSequenceClassification.from_pretrained(model_tokenizer_path, num_labels=2)"
   ]
  },
  {
   "cell_type": "code",
   "execution_count": 24,
   "id": "5fcbe801-e2ce-416d-b252-f938ceda8c0b",
   "metadata": {},
   "outputs": [],
   "source": [
    "# hyper-parameters\n",
    "\n",
    "lr = 1e-6\n",
    "weight_decay = 9e-1\n",
    "r=8 \n",
    "lora_alpha=16\n",
    "lora_dropout=0.1"
   ]
  },
  {
   "cell_type": "code",
   "execution_count": 25,
   "id": "bfb70a35",
   "metadata": {},
   "outputs": [
    {
     "name": "stdout",
     "output_type": "stream",
     "text": [
      "trainable params: 887,042 || all params: 125,534,212 || trainable%: 0.7066137476531099\n"
     ]
    }
   ],
   "source": [
    "peft_config = LoraConfig(task_type=\"SEQ_CLS\", inference_mode=False, r=r, lora_alpha=lora_alpha, lora_dropout=lora_dropout)\n",
    "model = get_peft_model(model, peft_config)\n",
    "model.print_trainable_parameters()"
   ]
  },
  {
   "cell_type": "code",
   "execution_count": 26,
   "id": "ade9fb1d",
   "metadata": {},
   "outputs": [],
   "source": [
    "optimizer = torch.optim.AdamW(model.parameters(), lr=lr, weight_decay=weight_decay)"
   ]
  },
  {
   "cell_type": "code",
   "execution_count": 27,
   "id": "ff421a98-43a2-4e7e-9be3-e1a15e2195f9",
   "metadata": {},
   "outputs": [
    {
     "name": "stdout",
     "output_type": "stream",
     "text": [
      "Current Tesla V100S-PCIE-32GB memory usage: 0.000/31.739 GiB\n"
     ]
    }
   ],
   "source": [
    "check_cuda_memory() # custom function (see utils.py)"
   ]
  },
  {
   "cell_type": "code",
   "execution_count": 28,
   "id": "0e176f9a",
   "metadata": {},
   "outputs": [],
   "source": [
    "device = 'cuda' if torch.cuda.is_available() else 'cpu'\n",
    "model.to(device);"
   ]
  },
  {
   "cell_type": "code",
   "execution_count": 29,
   "id": "605f0af3-954a-441f-8b90-84de7dd0c483",
   "metadata": {},
   "outputs": [
    {
     "name": "stdout",
     "output_type": "stream",
     "text": [
      "Current Tesla V100S-PCIE-32GB memory usage: 0.469/31.739 GiB\n"
     ]
    }
   ],
   "source": [
    "check_cuda_memory()"
   ]
  },
  {
   "cell_type": "markdown",
   "id": "b089c127-b2cd-46ad-908d-94348266415d",
   "metadata": {},
   "source": [
    "## Training"
   ]
  },
  {
   "cell_type": "code",
   "execution_count": 30,
   "id": "56149a4a-6d4d-4b34-a7a7-31e16f3ad98a",
   "metadata": {},
   "outputs": [],
   "source": [
    "num_epochs = 10\n",
    "early_stopping = True"
   ]
  },
  {
   "cell_type": "code",
   "execution_count": 31,
   "id": "b4c16d57-1b24-474e-9d88-8c318480adbc",
   "metadata": {},
   "outputs": [
    {
     "data": {
      "application/vnd.jupyter.widget-view+json": {
       "model_id": "56928d390be149a1befd172f9a051afb",
       "version_major": 2,
       "version_minor": 0
      },
      "text/plain": [
       "Epoch 0: training (TR):   0%|          | 0/1685 [00:00<?, ?it/s]"
      ]
     },
     "metadata": {},
     "output_type": "display_data"
    },
    {
     "data": {
      "application/vnd.jupyter.widget-view+json": {
       "model_id": "5e36f23a5d27403db3bdcad47c4d1b21",
       "version_major": 2,
       "version_minor": 0
      },
      "text/plain": [
       "Epoch 0: inference (VL):   0%|          | 0/157 [00:00<?, ?it/s]"
      ]
     },
     "metadata": {},
     "output_type": "display_data"
    },
    {
     "name": "stdout",
     "output_type": "stream",
     "text": [
      "Epoch 0\n",
      "TR Loss: 0.6888098602832602\tVL Loss: 0.6874668389368969\n",
      "TR Accuracy: 0.537\t\tVL Accuracy:  0.5\n",
      "TR F1: 0.433\t\t\tVL F1 (Macro): 0.333\n"
     ]
    },
    {
     "data": {
      "application/vnd.jupyter.widget-view+json": {
       "model_id": "25caa80e11da46989e735c9e4495d453",
       "version_major": 2,
       "version_minor": 0
      },
      "text/plain": [
       "Epoch 1: training (TR):   0%|          | 0/1685 [00:00<?, ?it/s]"
      ]
     },
     "metadata": {},
     "output_type": "display_data"
    },
    {
     "data": {
      "application/vnd.jupyter.widget-view+json": {
       "model_id": "2b81594589e0427388f82e3f50d9de68",
       "version_major": 2,
       "version_minor": 0
      },
      "text/plain": [
       "Epoch 1: inference (VL):   0%|          | 0/157 [00:00<?, ?it/s]"
      ]
     },
     "metadata": {},
     "output_type": "display_data"
    },
    {
     "name": "stdout",
     "output_type": "stream",
     "text": [
      "Epoch 1\n",
      "TR Loss: 0.6763950302975822\tVL Loss: 0.6774310067201116\n",
      "TR Accuracy: 0.588\t\tVL Accuracy: 0.551\n",
      "TR F1: 0.518\t\t\tVL F1 (Macro): 0.461\n"
     ]
    },
    {
     "data": {
      "application/vnd.jupyter.widget-view+json": {
       "model_id": "ec08213b4fe64f7db951fff2583356de",
       "version_major": 2,
       "version_minor": 0
      },
      "text/plain": [
       "Epoch 2: training (TR):   0%|          | 0/1685 [00:00<?, ?it/s]"
      ]
     },
     "metadata": {},
     "output_type": "display_data"
    },
    {
     "data": {
      "application/vnd.jupyter.widget-view+json": {
       "model_id": "f5974ee0ced34edbb2a51a695adf935c",
       "version_major": 2,
       "version_minor": 0
      },
      "text/plain": [
       "Epoch 2: inference (VL):   0%|          | 0/157 [00:00<?, ?it/s]"
      ]
     },
     "metadata": {},
     "output_type": "display_data"
    },
    {
     "name": "stdout",
     "output_type": "stream",
     "text": [
      "Epoch 2\n",
      "TR Loss: 0.6503847718946304\tVL Loss: 0.6583359150370215\n",
      "TR Accuracy: 0.68\t\tVL Accuracy: 0.671\n",
      "TR F1: 0.652\t\t\tVL F1 (Macro): 0.663\n"
     ]
    },
    {
     "data": {
      "application/vnd.jupyter.widget-view+json": {
       "model_id": "41097f9bff84424a83770c6042d45b34",
       "version_major": 2,
       "version_minor": 0
      },
      "text/plain": [
       "Epoch 3: training (TR):   0%|          | 0/1685 [00:00<?, ?it/s]"
      ]
     },
     "metadata": {},
     "output_type": "display_data"
    },
    {
     "data": {
      "application/vnd.jupyter.widget-view+json": {
       "model_id": "07cb03998e434dcbb9ccba5bc6bbba9a",
       "version_major": 2,
       "version_minor": 0
      },
      "text/plain": [
       "Epoch 3: inference (VL):   0%|          | 0/157 [00:00<?, ?it/s]"
      ]
     },
     "metadata": {},
     "output_type": "display_data"
    },
    {
     "name": "stdout",
     "output_type": "stream",
     "text": [
      "Epoch 3\n",
      "TR Loss: 0.5953419900435722\tVL Loss: 0.6208319204628088\n",
      "TR Accuracy: 0.766\t\tVL Accuracy: 0.705\n",
      "TR F1: 0.759\t\t\tVL F1 (Macro): 0.705\n"
     ]
    },
    {
     "data": {
      "application/vnd.jupyter.widget-view+json": {
       "model_id": "5d64a9d9e6be4bac84a6c16bbbbd50e9",
       "version_major": 2,
       "version_minor": 0
      },
      "text/plain": [
       "Epoch 4: training (TR):   0%|          | 0/1685 [00:00<?, ?it/s]"
      ]
     },
     "metadata": {},
     "output_type": "display_data"
    },
    {
     "data": {
      "application/vnd.jupyter.widget-view+json": {
       "model_id": "e950d570c2984a03bbaa6a918fe25746",
       "version_major": 2,
       "version_minor": 0
      },
      "text/plain": [
       "Epoch 4: inference (VL):   0%|          | 0/157 [00:00<?, ?it/s]"
      ]
     },
     "metadata": {},
     "output_type": "display_data"
    },
    {
     "name": "stdout",
     "output_type": "stream",
     "text": [
      "Epoch 4\n",
      "TR Loss: 0.49438729112862834\tVL Loss: 0.5777443348412301\n",
      "TR Accuracy: 0.808\t\tVL Accuracy: 0.72\n",
      "TR F1: 0.806\t\t\tVL F1 (Macro): 0.719\n"
     ]
    },
    {
     "data": {
      "application/vnd.jupyter.widget-view+json": {
       "model_id": "16d04796daf9468db0dda3293804f6e2",
       "version_major": 2,
       "version_minor": 0
      },
      "text/plain": [
       "Epoch 5: training (TR):   0%|          | 0/1685 [00:00<?, ?it/s]"
      ]
     },
     "metadata": {},
     "output_type": "display_data"
    },
    {
     "data": {
      "application/vnd.jupyter.widget-view+json": {
       "model_id": "ad0b5ee155cb41a19aae028f9f4d6a42",
       "version_major": 2,
       "version_minor": 0
      },
      "text/plain": [
       "Epoch 5: inference (VL):   0%|          | 0/157 [00:00<?, ?it/s]"
      ]
     },
     "metadata": {},
     "output_type": "display_data"
    },
    {
     "name": "stdout",
     "output_type": "stream",
     "text": [
      "Epoch 5\n",
      "TR Loss: 0.38141986544655765\tVL Loss: 0.6035561744882992\n",
      "TR Accuracy: 0.843\t\tVL Accuracy: 0.735\n",
      "TR F1: 0.841\t\t\tVL F1 (Macro): 0.733\n"
     ]
    },
    {
     "data": {
      "application/vnd.jupyter.widget-view+json": {
       "model_id": "d8dd9806d19b42f7bd40f0e480517a48",
       "version_major": 2,
       "version_minor": 0
      },
      "text/plain": [
       "Epoch 6: training (TR):   0%|          | 0/1685 [00:00<?, ?it/s]"
      ]
     },
     "metadata": {},
     "output_type": "display_data"
    },
    {
     "data": {
      "application/vnd.jupyter.widget-view+json": {
       "model_id": "1db708df0d6c4de1b9aea7d06fe0454d",
       "version_major": 2,
       "version_minor": 0
      },
      "text/plain": [
       "Epoch 6: inference (VL):   0%|          | 0/157 [00:00<?, ?it/s]"
      ]
     },
     "metadata": {},
     "output_type": "display_data"
    },
    {
     "name": "stdout",
     "output_type": "stream",
     "text": [
      "Epoch 6\n",
      "TR Loss: 0.3061225623467202\tVL Loss: 0.612251506643785\n",
      "TR Accuracy: 0.876\t\tVL Accuracy: 0.755\n",
      "TR F1: 0.875\t\t\tVL F1 (Macro): 0.754\n",
      "Training early stopped at epoch 6.\n"
     ]
    }
   ],
   "source": [
    "early_stopper = EarlyStopper(patience=2, delta=1e-2) # custom object (see utils.py)\n",
    "\n",
    "train_losses = list()\n",
    "val_losses = list()\n",
    "train_accs = list()\n",
    "val_accs = list()\n",
    "train_f1s = list()\n",
    "val_f1s = list()\n",
    "    \n",
    "# training loop\n",
    "\n",
    "for epoch in range(num_epochs):\n",
    "    model.train()\n",
    "    train_loss = .0\n",
    "    y_train = list()\n",
    "    y_pred = list()\n",
    "    for batch in tqdm(train, desc=f'Epoch {epoch}: training (TR)'):\n",
    "        batch = {k: v.to(device) for k, v in batch.items()} # moving batches to gpu\n",
    "        output = model(input_ids=batch['input_ids'], attention_mask=batch['attention_mask'])\n",
    "        loss = cross_entropy(output.logits, batch['labels'])\n",
    "        train_loss += loss.detach().cpu().item() # updating loss\n",
    "        predictions = torch.argmax(output.logits, -1).cpu()\n",
    "        y_pred.extend(predictions) # updating predictions\n",
    "        y_train.extend([item.detach().cpu().item() for item in batch['labels']]) # updating true labels\n",
    "        loss.backward()\n",
    "        optimizer.step()\n",
    "        optimizer.zero_grad(set_to_none=True) # set_to_none=True reduces memory footprint\n",
    "        \n",
    "    train_epoch_loss = train_loss / len(train) # epoch loss as mean loss over iterations (batches)\n",
    "    train_acc = round(accuracy_score(y_train, y_pred), 3)\n",
    "    train_f1 = round(f1_score(y_train, y_pred, average='macro'), 3)\n",
    "    \n",
    "    model.eval()\n",
    "    val_loss = .0\n",
    "    y_val = list()\n",
    "    y_pred = list()\n",
    "    for batch in tqdm(val, desc=f'Epoch {epoch}: inference (VL)'):\n",
    "        batch = {k: v.to(device) for k, v in batch.items()}\n",
    "        with torch.no_grad():\n",
    "            output = model(input_ids=batch['input_ids'], attention_mask=batch['attention_mask']) \n",
    "        loss = cross_entropy(output.logits, batch['labels'])\n",
    "        val_loss += loss.detach().cpu().item()\n",
    "        predictions = torch.argmax(output.logits, -1).cpu()\n",
    "        y_pred.extend(predictions)\n",
    "        y_val.extend([item.detach().cpu().item() for item in batch['labels']])\n",
    "        \n",
    "    val_epoch_loss = val_loss / len(val)\n",
    "    val_acc = round(accuracy_score(y_val, y_pred), 3)\n",
    "    val_f1 = round(f1_score(y_val, y_pred, average='macro'), 3)\n",
    "\n",
    "    train_losses.append(train_epoch_loss)\n",
    "    val_losses.append(val_epoch_loss)\n",
    "    train_accs.append(train_acc)\n",
    "    val_accs.append(val_acc)\n",
    "    train_f1s.append(train_f1)\n",
    "    val_f1s.append(val_f1)\n",
    "\n",
    "    print(f'Epoch {epoch}')\n",
    "    print(f'TR Loss: {train_epoch_loss:12}\\tVL Loss: {val_epoch_loss:12}')  # logging\n",
    "    print(f'TR Accuracy: {train_acc:4}\\t\\tVL Accuracy: {val_acc:4}')\n",
    "    print(f'TR F1: {train_f1:4}\\t\\t\\tVL F1 (Macro): {val_f1:4}')\n",
    "    \n",
    "    if early_stopping:\n",
    "        counter, stop = early_stopper(val_epoch_loss)\n",
    "        if stop:\n",
    "            torch.save(model.state_dict(), f'roberta_A_epoch_{epoch}.pth')\n",
    "            print(f'Training early stopped at epoch {epoch}.')\n",
    "            break\n",
    "        if counter == 0:\n",
    "            torch.save(model.state_dict(), f'roberta_A_epoch_{epoch}.pth') # saving model at optimal values of VL loss (before possible increase)"
   ]
  },
  {
   "cell_type": "code",
   "execution_count": 32,
   "id": "0b3c1d44-c348-402a-a506-5952fe20d178",
   "metadata": {},
   "outputs": [
    {
     "name": "stderr",
     "output_type": "stream",
     "text": [
      "/tmp/ipykernel_308565/2378197003.py:1: UserWarning: cmr10 font should ideally be used with mathtext, set axes.formatter.use_mathtext to True\n",
      "  plt.plot(train_losses, label='TR')\n"
     ]
    },
    {
     "data": {
      "image/png": "[encoded data removed]",
      "text/plain": [
       "<Figure size 640x480 with 1 Axes>"
      ]
     },
     "metadata": {},
     "output_type": "display_data"
    }
   ],
   "source": [
    "plt.plot(train_losses, label='TR')\n",
    "plt.plot(val_losses, label='VL')\n",
    "plt.xlabel('Epoch')\n",
    "plt.ylabel('Loss')\n",
    "plt.axvline(x=4, color='red', linestyle='--', label='Model')\n",
    "plt.xticks([0, 1, 2, 3, 4, 5, 6], [1, 2, 3, 4, 5, 6, 7]) \n",
    "plt.legend()\n",
    "plt.savefig('learning_curves_A_roberta.png', bbox_inches=\"tight\")\n",
    "plt.show()"
   ]
  },
  {
   "cell_type": "code",
   "execution_count": 33,
   "id": "07c1dab4-f64b-469d-bd9a-fd18ea52a253",
   "metadata": {},
   "outputs": [
    {
     "name": "stderr",
     "output_type": "stream",
     "text": [
      "/tmp/ipykernel_308565/6319539.py:1: UserWarning: cmr10 font should ideally be used with mathtext, set axes.formatter.use_mathtext to True\n",
      "  plt.plot(train_accs, label='TR')\n"
     ]
    },
    {
     "data": {
      "image/png": "[encoded data removed]",
      "text/plain": [
       "<Figure size 640x480 with 1 Axes>"
      ]
     },
     "metadata": {},
     "output_type": "display_data"
    }
   ],
   "source": [
    "plt.plot(train_accs, label='TR')\n",
    "plt.plot(val_accs, label='VL')\n",
    "plt.xlabel('Epoch')\n",
    "plt.ylabel('Accuracy')\n",
    "plt.axvline(x=4, color='red', linestyle='--', label='Model')\n",
    "plt.xticks([0, 1, 2, 3, 4, 5, 6], [1, 2, 3, 4, 5, 6, 7]) \n",
    "plt.legend()\n",
    "plt.savefig('accs_A_roberta.png', bbox_inches=\"tight\")\n",
    "plt.show()"
   ]
  },
  {
   "cell_type": "code",
   "execution_count": 34,
   "id": "e41e0355-76d2-47fb-8a9c-abb866b0989d",
   "metadata": {},
   "outputs": [
    {
     "name": "stderr",
     "output_type": "stream",
     "text": [
      "/tmp/ipykernel_308565/3731932009.py:1: UserWarning: cmr10 font should ideally be used with mathtext, set axes.formatter.use_mathtext to True\n",
      "  plt.plot(train_f1s, label='TR')\n"
     ]
    },
    {
     "data": {
      "image/png": "[encoded data removed]",
      "text/plain": [
       "<Figure size 640x480 with 1 Axes>"
      ]
     },
     "metadata": {},
     "output_type": "display_data"
    }
   ],
   "source": [
    "plt.plot(train_f1s, label='TR')\n",
    "plt.plot(val_f1s, label='VL')\n",
    "plt.xlabel('Epoch')\n",
    "plt.ylabel('F1 (Macro)')\n",
    "plt.axvline(x=4, color='red', linestyle='--', label='Model')\n",
    "plt.xticks([0, 1, 2, 3, 4, 5, 6], [1, 2, 3, 4, 5, 6, 7]) \n",
    "plt.legend()\n",
    "plt.savefig('f1s_A_roberta.png', bbox_inches=\"tight\")\n",
    "plt.show()"
   ]
  },
  {
   "cell_type": "markdown",
   "id": "bf6db926-b4ab-4cb3-a909-d6cf9010ef27",
   "metadata": {},
   "source": [
    "# Testing"
   ]
  },
  {
   "cell_type": "code",
   "execution_count": 35,
   "id": "cd6b3dc7-a24b-4306-84b5-f603445b1c17",
   "metadata": {},
   "outputs": [],
   "source": [
    "model_tokenizer_path = 'FacebookAI/roberta-base'"
   ]
  },
  {
   "cell_type": "code",
   "execution_count": 36,
   "id": "f1b52ca5-a81f-4849-9751-0909f8352c7c",
   "metadata": {},
   "outputs": [
    {
     "name": "stderr",
     "output_type": "stream",
     "text": [
      "Some weights of RobertaForSequenceClassification were not initialized from the model checkpoint at FacebookAI/roberta-base and are newly initialized: ['classifier.out_proj.weight', 'classifier.dense.bias', 'classifier.dense.weight', 'classifier.out_proj.bias']\n",
      "You should probably TRAIN this model on a down-stream task to be able to use it for predictions and inference.\n"
     ]
    }
   ],
   "source": [
    "model = AutoModelForSequenceClassification.from_pretrained(model_tokenizer_path, num_labels=2)"
   ]
  },
  {
   "cell_type": "code",
   "execution_count": 37,
   "id": "f2f90fbe-6088-440e-ae07-896d0bafd7e3",
   "metadata": {},
   "outputs": [
    {
     "data": {
      "text/plain": [
       "<All keys matched successfully>"
      ]
     },
     "execution_count": 37,
     "metadata": {},
     "output_type": "execute_result"
    }
   ],
   "source": [
    "trained_parameters = 'roberta_A_epoch_4.pth' # file pth with model at epoch 4\n",
    "peft_config = LoraConfig(task_type=\"SEQ_CLS\", inference_mode=True, r=8, lora_alpha=16, lora_dropout=0.1)\n",
    "model = get_peft_model(model, peft_config)\n",
    "model.load_state_dict(torch.load(trained_parameters)) "
   ]
  },
  {
   "cell_type": "code",
   "execution_count": 38,
   "id": "d4f584ab-7743-4ce7-99f5-8656b5e16486",
   "metadata": {},
   "outputs": [
    {
     "name": "stdout",
     "output_type": "stream",
     "text": [
      "Current Tesla V100S-PCIE-32GB memory usage: 0.491/31.739 GiB\n"
     ]
    }
   ],
   "source": [
    "check_cuda_memory() "
   ]
  },
  {
   "cell_type": "code",
   "execution_count": 39,
   "id": "35d26aaf-ad50-46ab-b2c5-f397a1f070ce",
   "metadata": {},
   "outputs": [],
   "source": [
    "device = 'cuda' if torch.cuda.is_available() else 'cpu'\n",
    "model.to(device);"
   ]
  },
  {
   "cell_type": "code",
   "execution_count": 40,
   "id": "6c27d815-dac4-4b45-a044-5c6d6f021f1e",
   "metadata": {},
   "outputs": [
    {
     "name": "stdout",
     "output_type": "stream",
     "text": [
      "Current Tesla V100S-PCIE-32GB memory usage: 0.972/31.739 GiB\n"
     ]
    }
   ],
   "source": [
    "check_cuda_memory()"
   ]
  },
  {
   "cell_type": "code",
   "execution_count": 45,
   "id": "650cf3b2-0a80-48e6-8a64-453d3916d971",
   "metadata": {},
   "outputs": [
    {
     "data": {
      "application/vnd.jupyter.widget-view+json": {
       "model_id": "170c5983070141bf995f188fac99f8d9",
       "version_major": 2,
       "version_minor": 0
      },
      "text/plain": [
       "  0%|          | 0/375 [00:00<?, ?it/s]"
      ]
     },
     "metadata": {},
     "output_type": "display_data"
    }
   ],
   "source": [
    "y_pred = list()\n",
    "y_test = list()\n",
    "for batch in tqdm(test):\n",
    "        batch = {k: v.to(device) for k, v in batch.items()}\n",
    "        with torch.no_grad():\n",
    "            output = model(input_ids=batch['input_ids'], attention_mask=batch['attention_mask'])\n",
    "        predictions = torch.argmax(output.logits, -1).cpu()\n",
    "        y_pred.extend(predictions)\n",
    "        y_test.extend([item.detach().cpu().item() for item in batch['labels']]) # updating true labels"
   ]
  },
  {
   "cell_type": "code",
   "execution_count": 46,
   "id": "e6bd77cd-d4b7-44c0-bbe4-94b28f942542",
   "metadata": {},
   "outputs": [
    {
     "name": "stdout",
     "output_type": "stream",
     "text": [
      "              precision    recall  f1-score   support\n",
      "\n",
      "           0      0.949     0.652     0.773      6298\n",
      "           1      0.713     0.961     0.819      5678\n",
      "\n",
      "    accuracy                          0.798     11976\n",
      "   macro avg      0.831     0.806     0.796     11976\n",
      "weighted avg      0.837     0.798     0.795     11976\n",
      "\n"
     ]
    }
   ],
   "source": [
    "print(classification_report(y_test, y_pred, digits=3))"
   ]
  },
  {
   "cell_type": "code",
   "execution_count": 47,
   "id": "55c59c44-ab8c-45ef-abbd-e24265c5dc58",
   "metadata": {},
   "outputs": [
    {
     "name": "stderr",
     "output_type": "stream",
     "text": [
      "/home/g.fidone/hlt/lib/python3.10/site-packages/seaborn/matrix.py:456: UserWarning: cmr10 font should ideally be used with mathtext, set axes.formatter.use_mathtext to True\n",
      "  ax = plt.gca()\n",
      "/home/g.fidone/hlt/lib/python3.10/site-packages/seaborn/matrix.py:316: UserWarning: cmr10 font should ideally be used with mathtext, set axes.formatter.use_mathtext to True\n",
      "  cb = ax.figure.colorbar(mesh, cax, ax, **self.cbar_kws)\n"
     ]
    },
    {
     "data": {
      "image/png": "[encoded data removed]",
      "text/plain": [
       "<Figure size 600x400 with 2 Axes>"
      ]
     },
     "metadata": {},
     "output_type": "display_data"
    }
   ],
   "source": [
    "cm = confusion_matrix(y_test, y_pred)\n",
    "plt.figure(figsize=(6, 4))\n",
    "sns.heatmap(cm, annot=True, fmt='d', cmap='Blues', xticklabels=['Human', 'Machine'], yticklabels=['Human', 'Machine'])\n",
    "plt.xlabel('Predicted')\n",
    "plt.ylabel('True')\n",
    "plt.title('Confusion Matrix')\n",
    "plt.savefig('confusion_A_roberta.png', bbox_inches=\"tight\")\n",
    "plt.show()"
   ]
  }
 ],
 "metadata": {
  "kernelspec": {
   "display_name": "Python 3 (ipykernel)",
   "language": "python",
   "name": "python3"
  },
  "language_info": {
   "codemirror_mode": {
    "name": "ipython",
    "version": 3
   },
   "file_extension": ".py",
   "mimetype": "text/x-python",
   "name": "python",
   "nbconvert_exporter": "python",
   "pygments_lexer": "ipython3",
   "version": "3.10.12"
  }
 },
 "nbformat": 4,
 "nbformat_minor": 5
}
